{
 "cells": [
  {
   "cell_type": "code",
   "execution_count": null,
   "id": "ce5d535e",
   "metadata": {},
   "outputs": [],
   "source": [
    "import numpy as np\n",
    "\n",
    "fs = 44100\n",
    "ir = np.load('files/KEMAR-hrir.npy')"
   ]
  },
  {
   "cell_type": "code",
   "execution_count": null,
   "id": "d6031999",
   "metadata": {},
   "outputs": [],
   "source": [
    "ir.shape"
   ]
  },
  {
   "cell_type": "code",
   "execution_count": null,
   "id": "80b58f3c",
   "metadata": {},
   "outputs": [],
   "source": [
    "%matplotlib inline\n",
    "import matplotlib.pyplot as plt\n",
    "plt.rcParams[\"figure.figsize\"] = (12, 4.5)\n",
    "\n",
    "input_idx = 100\n",
    "\n",
    "t = np.arange(ir.shape[0])/fs\n",
    "\n",
    "fig, axes = plt.subplots(1, 2)\n",
    "fig.suptitle(f'Head-Related Impulse Response (input {input_idx})')\n",
    "for i, ax in enumerate(axes): \n",
    "    ax.plot(t, ir[:, i, input_idx], color='k')\n",
    "    ax.set(xlabel=r'Time (s)', ylabel='Amplitude', title=f'{\"left\" if i == 0 else \"right\"} ear', xlim=(t[0], t[-1]), ylim=(-0.75, 0.75))"
   ]
  },
  {
   "cell_type": "code",
   "execution_count": null,
   "id": "237e0e6d",
   "metadata": {},
   "outputs": [],
   "source": [
    "from pymor.operators.numpy import NumpyHankelOperator\n",
    "\n",
    "H = NumpyHankelOperator(ir)"
   ]
  },
  {
   "cell_type": "code",
   "execution_count": null,
   "id": "a2c7a34a",
   "metadata": {},
   "outputs": [],
   "source": [
    "print(H)"
   ]
  },
  {
   "cell_type": "code",
   "execution_count": null,
   "id": "759dac2d",
   "metadata": {},
   "outputs": [],
   "source": [
    "from pymor.reductors.era import ERAReductor\n",
    "\n",
    "era = ERAReductor(ir, sampling_time=1/fs)"
   ]
  },
  {
   "cell_type": "code",
   "execution_count": null,
   "id": "171d2b09",
   "metadata": {},
   "outputs": [],
   "source": [
    "from pymor.tools.formatsrc import print_source\n",
    "\n",
    "print_source(ERAReductor.reduce)"
   ]
  },
  {
   "cell_type": "code",
   "execution_count": null,
   "id": "e696f54e",
   "metadata": {},
   "outputs": [],
   "source": [
    "from pymor.tools.timing import Timer\n",
    "\n",
    "roms = dict()\n",
    "with Timer('Initial computation (r=80)'):\n",
    "    roms['80'] = era.reduce(80)"
   ]
  },
  {
   "cell_type": "code",
   "execution_count": null,
   "id": "c1e51066",
   "metadata": {},
   "outputs": [],
   "source": [
    "print(roms['80'])"
   ]
  },
  {
   "cell_type": "code",
   "execution_count": null,
   "id": "d3a992ef",
   "metadata": {},
   "outputs": [],
   "source": [
    "with Timer('Recomputation (r=80)'):\n",
    "    roms['80'] = era.reduce(80)"
   ]
  },
  {
   "cell_type": "code",
   "execution_count": null,
   "id": "11052355",
   "metadata": {},
   "outputs": [],
   "source": [
    "with Timer('Recomputation (r=100)'):\n",
    "    roms['100'] = era.reduce(100)"
   ]
  },
  {
   "cell_type": "code",
   "execution_count": null,
   "id": "33590339",
   "metadata": {},
   "outputs": [],
   "source": [
    "with Timer('Recomputation (r=120)'):\n",
    "    roms['120'] = era.reduce(120)"
   ]
  },
  {
   "cell_type": "code",
   "execution_count": null,
   "id": "43f0ba0a",
   "metadata": {},
   "outputs": [],
   "source": [
    "from pymor.algorithms.to_matrix import to_matrix\n",
    "from pymor.operators.numpy import NumpyMatrixOperator\n",
    "\n",
    "# slice the model for plotting\n",
    "sliced_roms = dict()\n",
    "for key, rom in roms.items():\n",
    "    sliced_roms[key] = rom.with_(B=NumpyMatrixOperator(to_matrix(rom.B)[:, input_idx].reshape(-1, 1)),\n",
    "                                 D=NumpyMatrixOperator(to_matrix(rom.D)[:, input_idx].reshape(-1, 1)))"
   ]
  },
  {
   "cell_type": "code",
   "execution_count": null,
   "id": "5fd8aef7",
   "metadata": {},
   "outputs": [],
   "source": [
    "flim = np.array((20, fs/2))\n",
    "wlim = 2 * np.pi * flim / fs\n",
    "\n",
    "fig, ax = plt.subplots(2, 2, figsize=(12, 9))\n",
    "ax = ax.T.ravel()\n",
    "ax[0].semilogx(np.fft.rfftfreq(256, 1/fs), 20*np.log10(np.abs(np.fft.rfft(ir[:, 0, input_idx]))), color='k', label='data')\n",
    "ax[2].semilogx(np.fft.rfftfreq(256, 1/fs), 20*np.log10(np.abs(np.fft.rfft(ir[:, 1, input_idx]))), color='k', label='data')\n",
    "for order, rom in sliced_roms.items():\n",
    "    rom.transfer_function.bode_plot(wlim, ax=ax, dB=True, Hz=True, label=f'r = {order}')\n",
    "ax[0].set(xlabel='Frequency (Hz)', title='left ear', xlim=flim, ylim=(-24, 12))\n",
    "ax[0].legend()\n",
    "ax[0].grid()\n",
    "fig.delaxes(ax[1])\n",
    "ax[2].set(xlabel='Frequency (Hz)', title='right ear', xlim=flim, ylim=(-24, 12))\n",
    "ax[2].legend()\n",
    "ax[2].grid()\n",
    "fig.delaxes(ax[3])"
   ]
  },
  {
   "cell_type": "code",
   "execution_count": null,
   "id": "0f9f606c",
   "metadata": {},
   "outputs": [],
   "source": [
    "from pymor.algorithms.timestepping import DiscreteTimeStepper\n",
    "\n",
    "fig, axes = plt.subplots(1, 2)\n",
    "fig.suptitle(f'Error Impulse Response (input {input_idx})')\n",
    "for rom in sliced_roms.values():\n",
    "    rom = rom.with_(T=256, time_stepper=DiscreteTimeStepper())\n",
    "    hrir = rom.impulse_resp()[1:, :, 0] / fs\n",
    "    error = ir[..., input_idx] - hrir\n",
    "    for i, ax in enumerate(axes): \n",
    "        ax.plot(t, error[:, i])\n",
    "        ax.set(xlabel=r'Time (s)', ylabel='Amplitude', title=f'{\"left\" if i == 0 else \"right\"} ear', ylim=(-0.075, 0.075))\n",
    "        ax.legend(('r = 80', 'r = 100', 'r = 120'))"
   ]
  }
 ],
 "metadata": {
  "kernelspec": {
   "display_name": "Python 3 (ipykernel)",
   "language": "python",
   "name": "python3"
  },
  "language_info": {
   "codemirror_mode": {
    "name": "ipython",
    "version": 3
   },
   "file_extension": ".py",
   "mimetype": "text/x-python",
   "name": "python",
   "nbconvert_exporter": "python",
   "pygments_lexer": "ipython3",
   "version": "3.8.12"
  }
 },
 "nbformat": 4,
 "nbformat_minor": 5
}
