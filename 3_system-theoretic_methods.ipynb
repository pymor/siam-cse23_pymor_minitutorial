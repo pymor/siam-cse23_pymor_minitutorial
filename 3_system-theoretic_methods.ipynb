{
 "cells": [
  {
   "cell_type": "markdown",
   "id": "5c15ceaa",
   "metadata": {
    "slideshow": {
     "slide_type": "slide"
    }
   },
   "source": [
    "# System-Theoretic Methods with pyMOR"
   ]
  },
  {
   "cell_type": "markdown",
   "id": "e464f2f7",
   "metadata": {
    "slideshow": {
     "slide_type": "subslide"
    }
   },
   "source": [
    "## Building the FOM"
   ]
  },
  {
   "cell_type": "markdown",
   "id": "12fb05ca",
   "metadata": {
    "slideshow": {
     "slide_type": "fragment"
    }
   },
   "source": [
    "### Linear Time-Invariant (LTI) System\n",
    "\n",
    "\\begin{align}\n",
    "  \\dot{x}(t) & = A x(t) + B u(t), \\quad x(0) = 0, \\\\\n",
    "  y(t) & = C x(t),\n",
    "\\end{align}\n",
    "\n",
    "- $u(t) \\in \\mathbb{R}^m$ is the input,\n",
    "- $x(t) \\in \\mathbb{R}^n$ is the state,\n",
    "- $y(t) \\in \\mathbb{R}^p$ is the output."
   ]
  },
  {
   "cell_type": "code",
   "execution_count": null,
   "id": "40c400a3",
   "metadata": {
    "slideshow": {
     "slide_type": "subslide"
    }
   },
   "outputs": [],
   "source": [
    "from pymor.basic import *\n",
    "lti = LTIModel.from_mat_file('files/build.mat')"
   ]
  },
  {
   "cell_type": "code",
   "execution_count": null,
   "id": "2f4e2cbd",
   "metadata": {
    "slideshow": {
     "slide_type": "fragment"
    }
   },
   "outputs": [],
   "source": [
    "lti"
   ]
  },
  {
   "cell_type": "code",
   "execution_count": null,
   "id": "190065e5",
   "metadata": {
    "slideshow": {
     "slide_type": "fragment"
    }
   },
   "outputs": [],
   "source": [
    "print(lti)"
   ]
  },
  {
   "cell_type": "markdown",
   "id": "bafc75e1",
   "metadata": {
    "slideshow": {
     "slide_type": "subslide"
    }
   },
   "source": [
    "### FOM Poles"
   ]
  },
  {
   "cell_type": "code",
   "execution_count": null,
   "id": "3493470e",
   "metadata": {},
   "outputs": [],
   "source": [
    "import matplotlib.pyplot as plt\n",
    "poles = lti.poles()\n",
    "_ = plt.plot(poles.real, poles.imag, '.')"
   ]
  },
  {
   "cell_type": "markdown",
   "id": "bea7a223",
   "metadata": {
    "slideshow": {
     "slide_type": "subslide"
    }
   },
   "source": [
    "### FOM Hankel Singular Values"
   ]
  },
  {
   "cell_type": "code",
   "execution_count": null,
   "id": "796f8a08",
   "metadata": {},
   "outputs": [],
   "source": [
    "_ = plt.semilogy(lti.hsv(), '.-')"
   ]
  },
  {
   "cell_type": "markdown",
   "id": "27350241",
   "metadata": {
    "slideshow": {
     "slide_type": "subslide"
    }
   },
   "source": [
    "### FOM Bode Plot"
   ]
  },
  {
   "cell_type": "code",
   "execution_count": null,
   "id": "2b3b3ccb",
   "metadata": {},
   "outputs": [],
   "source": [
    "w = (1e-1, 1e3)\n",
    "_ = lti.transfer_function.bode_plot(w)"
   ]
  },
  {
   "cell_type": "markdown",
   "id": "9de1b782",
   "metadata": {
    "slideshow": {
     "slide_type": "subslide"
    }
   },
   "source": [
    "### Balanced Truncation"
   ]
  },
  {
   "cell_type": "code",
   "execution_count": null,
   "id": "cb20533e",
   "metadata": {
    "slideshow": {
     "slide_type": "fragment"
    }
   },
   "outputs": [],
   "source": [
    "bt = BTReductor(lti)"
   ]
  },
  {
   "cell_type": "code",
   "execution_count": null,
   "id": "511c9a64",
   "metadata": {
    "slideshow": {
     "slide_type": "fragment"
    }
   },
   "outputs": [],
   "source": [
    "rom_bt = bt.reduce(4)"
   ]
  },
  {
   "cell_type": "code",
   "execution_count": null,
   "id": "6438eaec",
   "metadata": {
    "slideshow": {
     "slide_type": "subslide"
    }
   },
   "outputs": [],
   "source": [
    "rom_bt"
   ]
  },
  {
   "cell_type": "code",
   "execution_count": null,
   "id": "03660831",
   "metadata": {
    "slideshow": {
     "slide_type": "fragment"
    }
   },
   "outputs": [],
   "source": [
    "print(rom_bt)"
   ]
  },
  {
   "cell_type": "markdown",
   "id": "ce4f8fc5",
   "metadata": {
    "slideshow": {
     "slide_type": "subslide"
    }
   },
   "source": [
    "### ROM poles"
   ]
  },
  {
   "cell_type": "code",
   "execution_count": null,
   "id": "c240a4f5",
   "metadata": {},
   "outputs": [],
   "source": [
    "poles = lti.poles()\n",
    "poles_rom = rom_bt.poles()\n",
    "_ = plt.plot(poles.real, poles.imag, '.')\n",
    "_ = plt.plot(poles_rom.real, poles_rom.imag, 'x')"
   ]
  },
  {
   "cell_type": "markdown",
   "id": "385b4e29",
   "metadata": {
    "slideshow": {
     "slide_type": "subslide"
    }
   },
   "source": [
    "### ROM Hankel Singular Values"
   ]
  },
  {
   "cell_type": "code",
   "execution_count": null,
   "id": "13cbd5ce",
   "metadata": {},
   "outputs": [],
   "source": [
    "_ = plt.semilogy(lti.hsv(), '.-')\n",
    "_ = plt.semilogy(rom_bt.hsv(), '.-')"
   ]
  },
  {
   "cell_type": "markdown",
   "id": "cff72c03",
   "metadata": {
    "slideshow": {
     "slide_type": "subslide"
    }
   },
   "source": [
    "### ROM Bode Plot"
   ]
  },
  {
   "cell_type": "code",
   "execution_count": null,
   "id": "5386f00c",
   "metadata": {},
   "outputs": [],
   "source": [
    "fig, ax = plt.subplots(2, 1, squeeze=False, figsize=(6, 8), tight_layout=True)\n",
    "_ = lti.transfer_function.bode_plot(w, ax=ax)\n",
    "_ = rom_bt.transfer_function.bode_plot(w, ax=ax, linestyle='--')"
   ]
  },
  {
   "cell_type": "markdown",
   "id": "97db801d",
   "metadata": {
    "slideshow": {
     "slide_type": "subslide"
    }
   },
   "source": [
    "### Error Magnitude Plot"
   ]
  },
  {
   "cell_type": "code",
   "execution_count": null,
   "id": "0f260c3a",
   "metadata": {},
   "outputs": [],
   "source": [
    "err_bt = lti - rom_bt\n",
    "_ = err_bt.transfer_function.mag_plot(w)"
   ]
  },
  {
   "cell_type": "markdown",
   "id": "55d58793",
   "metadata": {
    "slideshow": {
     "slide_type": "fragment"
    }
   },
   "source": [
    "### Relative Errors"
   ]
  },
  {
   "cell_type": "code",
   "execution_count": null,
   "id": "42b9d109",
   "metadata": {},
   "outputs": [],
   "source": [
    "print(err_bt.hinf_norm() / lti.hinf_norm())\n",
    "print(err_bt.h2_norm() / lti.h2_norm())"
   ]
  }
 ],
 "metadata": {
  "jupytext": {
   "formats": "ipynb,md:myst"
  },
  "kernelspec": {
   "display_name": "Python 3 (ipykernel)",
   "language": "python",
   "name": "python3"
  },
  "language_info": {
   "codemirror_mode": {
    "name": "ipython",
    "version": 3
   },
   "file_extension": ".py",
   "mimetype": "text/x-python",
   "name": "python",
   "nbconvert_exporter": "python",
   "pygments_lexer": "ipython3",
   "version": "3.8.16"
  }
 },
 "nbformat": 4,
 "nbformat_minor": 5
}
