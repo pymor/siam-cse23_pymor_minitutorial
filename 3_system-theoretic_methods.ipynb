{
 "cells": [
  {
   "cell_type": "markdown",
   "id": "5c15ceaa",
   "metadata": {
    "slideshow": {
     "slide_type": "slide"
    }
   },
   "source": [
    "# System-Theoretic Methods with pyMOR"
   ]
  },
  {
   "cell_type": "markdown",
   "id": "12fb05ca",
   "metadata": {
    "slideshow": {
     "slide_type": "fragment"
    }
   },
   "source": [
    "## Linear Time-Invariant (LTI) Systems\n",
    "\n",
    "$$\n",
    "\\begin{align*}\n",
    "  E \\dot{x}(t) & = A x(t) + B u(t), \\quad x(0) = 0, \\\\\n",
    "  y(t) & = C x(t) + D u(t),\n",
    "\\end{align*}\n",
    "$$\n",
    "\n",
    "- $u(t) \\in \\mathbb{R}^m$ is the input,\n",
    "- $x(t) \\in \\mathbb{R}^n$ is the state,\n",
    "- $y(t) \\in \\mathbb{R}^p$ is the output."
   ]
  },
  {
   "cell_type": "markdown",
   "id": "4b76718d-d054-4a71-8ad7-38bfba578ee0",
   "metadata": {},
   "source": [
    "## Example (Mass-Spring-Damper Chain)\n",
    "\n",
    "Equations:\n",
    "$$\n",
    "\\begin{align*}\n",
    "  m \\ddot{q}_1(t)\n",
    "  + d (2 \\dot{q}_1(t) - \\dot{q}_2(t))\n",
    "  + k (2 q_1(t) - q_{2}(t))\n",
    "  & = u(t), \\\\\n",
    "  m \\ddot{q}_i(t)\n",
    "  + d (2 \\dot{q}_i(t) - \\dot{q}_{i - 1}(t) - \\dot{q}_{i + 1}(t))\n",
    "  + k (2 q_i(t) - q_{i - 1}(t) - q_{i + 1}(t))\n",
    "  & = 0,\n",
    "  & i = 2, \\ldots, n - 1, \\\\\n",
    "  m \\ddot{q}_n(t)\n",
    "  + d (2 \\dot{q}_n(t) - \\dot{q}_{n - 1}(t))\n",
    "  + k (2 q_n(t) - q_{n - 1}(t))\n",
    "  & = 0, \\\\\n",
    "  y(t) & = q_n(t)\n",
    "\\end{align*}\n",
    "$$\n",
    "\n",
    "Matrix form:\n",
    "$$\n",
    "\\begin{align*}\n",
    "  M_{so} \\ddot{q}(t)\n",
    "  + D_{so} \\dot{q}(t)\n",
    "  + K_{so} q(t)\n",
    "  & = B_{so} u(t), \\\\\n",
    "  y(t)\n",
    "  & = C_{so} q(t)\n",
    "\\end{align*}\n",
    "$$\n",
    "where\n",
    "$$\n",
    "M_{so} = m I, \\quad\n",
    "D_{so} = d L, \\quad\n",
    "K_{so} = k L, \\quad\n",
    "L =\n",
    "\\begin{bmatrix}\n",
    "  2 & -1 \\\\\n",
    "  -1 & 2 & -1 \\\\\n",
    "  & -1 & \\ddots & \\ddots \\\\\n",
    "  & & \\ddots & \\ddots & -1 \\\\\n",
    "  & & & -1 & 2\n",
    "\\end{bmatrix}, \\quad\n",
    "B_{so} = e_1, \\quad\n",
    "C_{so} = e_n^T.\n",
    "$$\n",
    "\n",
    "In first-order form:\n",
    "$$\n",
    "x(t) =\n",
    "\\begin{bmatrix}\n",
    "  q(t) \\\\\n",
    "  \\dot{q}(t)\n",
    "\\end{bmatrix}, \\quad\n",
    "E =\n",
    "\\begin{bmatrix}\n",
    "  I & 0 \\\\\n",
    "  0 & M_{so}\n",
    "\\end{bmatrix}, \\quad\n",
    "A =\n",
    "\\begin{bmatrix}\n",
    "  0 & I \\\\\n",
    "  -K_{so} & -D_{so}\n",
    "\\end{bmatrix}, \\quad\n",
    "B =\n",
    "\\begin{bmatrix}\n",
    "  0 \\\\\n",
    "  B_{so}\n",
    "\\end{bmatrix}, \\quad\n",
    "C =\n",
    "\\begin{bmatrix}\n",
    "  C_{so} & 0\n",
    "\\end{bmatrix}, \\quad\n",
    "$$"
   ]
  },
  {
   "cell_type": "markdown",
   "id": "884c5186-e28b-4b2c-85a6-9e9e586bc005",
   "metadata": {},
   "source": [
    "## Building a Full-Order Model"
   ]
  },
  {
   "cell_type": "markdown",
   "id": "ecfe81a2-4173-4a8b-a7e5-9033216e2197",
   "metadata": {},
   "source": [
    "### Matrices"
   ]
  },
  {
   "cell_type": "code",
   "execution_count": null,
   "id": "82e73c59-0d95-43a9-9363-a04f0a3f91d2",
   "metadata": {
    "tags": []
   },
   "outputs": [],
   "source": [
    "import numpy as np\n",
    "import scipy.sparse as sps"
   ]
  },
  {
   "cell_type": "code",
   "execution_count": null,
   "id": "80fb523b-2a28-4019-9508-0e016afbefd7",
   "metadata": {
    "tags": []
   },
   "outputs": [],
   "source": [
    "n = 1000\n",
    "m = 1\n",
    "d = 10\n",
    "k = 1\n",
    "Mso = m * sps.eye(n, format='csc')\n",
    "L = sps.diags([(n-1)*[-1], n*[2], (n-1)*[-1]], [-1, 0, 1], format='csc')\n",
    "Dso = d * L\n",
    "Kso = k * L\n",
    "Bso = np.zeros((n, 1))\n",
    "Bso[0, 0] = 1\n",
    "Cso = np.zeros((1, n))\n",
    "Cso[0, -1] = 1"
   ]
  },
  {
   "cell_type": "code",
   "execution_count": null,
   "id": "eb393a47-a11f-4211-b57e-817b626205b6",
   "metadata": {
    "tags": []
   },
   "outputs": [],
   "source": [
    "E = sps.block_diag([sps.eye(n), Mso], format='csc')\n",
    "A = sps.bmat([[None, sps.eye(n)], [-Kso, -Dso]], format='csc')\n",
    "B = np.vstack([np.zeros((n, 1)), Bso])\n",
    "C = np.hstack([Cso, np.zeros((1, n))])"
   ]
  },
  {
   "cell_type": "markdown",
   "id": "f848111d-bbd4-4452-867c-bf510f147937",
   "metadata": {},
   "source": [
    "### `LTIModel`"
   ]
  },
  {
   "cell_type": "code",
   "execution_count": null,
   "id": "40c400a3",
   "metadata": {
    "slideshow": {
     "slide_type": "subslide"
    },
    "tags": []
   },
   "outputs": [],
   "source": [
    "from pymor.models.iosys import LTIModel"
   ]
  },
  {
   "cell_type": "code",
   "execution_count": null,
   "id": "2f4e2cbd",
   "metadata": {
    "slideshow": {
     "slide_type": "fragment"
    },
    "tags": []
   },
   "outputs": [],
   "source": [
    "fom = LTIModel.from_matrices(A, B, C, E=E)"
   ]
  },
  {
   "cell_type": "code",
   "execution_count": null,
   "id": "8e83b768-d422-4e33-aa6d-3050d3d02d09",
   "metadata": {
    "tags": []
   },
   "outputs": [],
   "source": [
    "fom"
   ]
  },
  {
   "cell_type": "code",
   "execution_count": null,
   "id": "190065e5",
   "metadata": {
    "slideshow": {
     "slide_type": "fragment"
    },
    "tags": []
   },
   "outputs": [],
   "source": [
    "print(fom)"
   ]
  },
  {
   "cell_type": "markdown",
   "id": "bafc75e1",
   "metadata": {
    "slideshow": {
     "slide_type": "subslide"
    }
   },
   "source": [
    "## Full-Order Model Analysis"
   ]
  },
  {
   "cell_type": "code",
   "execution_count": null,
   "id": "b8f11a33-9a37-41b4-95c5-d0861d4b273d",
   "metadata": {
    "tags": []
   },
   "outputs": [],
   "source": [
    "import matplotlib.pyplot as plt\n",
    "from pymor.core.logger import set_log_levels\n",
    "set_log_levels({'pymor.algorithms.gram_schmidt.gram_schmidt': 'ERROR'})"
   ]
  },
  {
   "cell_type": "markdown",
   "id": "f96f170d-033e-4d65-89cc-0c5258852d20",
   "metadata": {
    "slideshow": {
     "slide_type": "subslide"
    }
   },
   "source": [
    "### Bode Plot"
   ]
  },
  {
   "cell_type": "code",
   "execution_count": null,
   "id": "2b3b3ccb",
   "metadata": {
    "tags": []
   },
   "outputs": [],
   "source": [
    "w = (5e-4, 5e-2)\n",
    "_ = fom.transfer_function.bode_plot(w)"
   ]
  },
  {
   "cell_type": "markdown",
   "id": "79011764-62ef-45d4-bdc9-04f674c152a0",
   "metadata": {},
   "source": [
    "### Impulse Response"
   ]
  },
  {
   "cell_type": "code",
   "execution_count": null,
   "id": "f573c0bd-d5fc-496d-8292-912e09378bf7",
   "metadata": {
    "tags": []
   },
   "outputs": [],
   "source": [
    "from pymor.algorithms.timestepping import ImplicitEulerTimeStepper"
   ]
  },
  {
   "cell_type": "code",
   "execution_count": null,
   "id": "7da19cd1-b1ae-4089-96f9-7a84ff55b863",
   "metadata": {
    "tags": []
   },
   "outputs": [],
   "source": [
    "fom = fom.with_(T=2000, time_stepper=ImplicitEulerTimeStepper(2000))"
   ]
  },
  {
   "cell_type": "code",
   "execution_count": null,
   "id": "99688cef-41d9-4e5c-9a61-2ec867553430",
   "metadata": {
    "tags": []
   },
   "outputs": [],
   "source": [
    "y = fom.impulse_resp()"
   ]
  },
  {
   "cell_type": "code",
   "execution_count": null,
   "id": "56937b97-9010-49a2-8865-d260c82ac910",
   "metadata": {
    "tags": []
   },
   "outputs": [],
   "source": [
    "y.shape"
   ]
  },
  {
   "cell_type": "code",
   "execution_count": null,
   "id": "7995d116-7fd8-495c-b7e1-85cdabc3d806",
   "metadata": {
    "tags": []
   },
   "outputs": [],
   "source": [
    "fig, ax = plt.subplots()\n",
    "_ = ax.plot(np.linspace(0, fom.T, fom.time_stepper.nt + 1), y[:, 0, 0])"
   ]
  },
  {
   "cell_type": "markdown",
   "id": "bea7a223",
   "metadata": {
    "slideshow": {
     "slide_type": "subslide"
    }
   },
   "source": [
    "### Hankel Singular Values"
   ]
  },
  {
   "cell_type": "code",
   "execution_count": null,
   "id": "748aa654-ad0b-4571-862c-a7bf6936089b",
   "metadata": {
    "scrolled": true,
    "tags": []
   },
   "outputs": [],
   "source": [
    "hsv = fom.hsv()"
   ]
  },
  {
   "cell_type": "code",
   "execution_count": null,
   "id": "2d34f298-a9dc-4c14-9f0c-d2fde62693f9",
   "metadata": {
    "tags": []
   },
   "outputs": [],
   "source": [
    "fig, ax = plt.subplots()\n",
    "_ = ax.semilogy(range(1, len(hsv) + 1), hsv, '.-')\n",
    "_ = ax.set(\n",
    "    xlabel='Index $i$',\n",
    "    ylabel=r'$\\sigma_i$',\n",
    "    title='Hankel singular values'\n",
    ")"
   ]
  },
  {
   "cell_type": "markdown",
   "id": "9de1b782",
   "metadata": {
    "slideshow": {
     "slide_type": "subslide"
    }
   },
   "source": [
    "## Balanced Truncation"
   ]
  },
  {
   "cell_type": "code",
   "execution_count": null,
   "id": "8b902682-6f45-423e-b785-c417b2abf7a4",
   "metadata": {
    "tags": []
   },
   "outputs": [],
   "source": [
    "from pymor.reductors.bt import BTReductor"
   ]
  },
  {
   "cell_type": "code",
   "execution_count": null,
   "id": "cb20533e",
   "metadata": {
    "slideshow": {
     "slide_type": "fragment"
    },
    "tags": []
   },
   "outputs": [],
   "source": [
    "bt = BTReductor(fom)"
   ]
  },
  {
   "cell_type": "code",
   "execution_count": null,
   "id": "511c9a64",
   "metadata": {
    "scrolled": true,
    "slideshow": {
     "slide_type": "fragment"
    },
    "tags": []
   },
   "outputs": [],
   "source": [
    "rom_bt = bt.reduce(20)"
   ]
  },
  {
   "cell_type": "code",
   "execution_count": null,
   "id": "6438eaec",
   "metadata": {
    "slideshow": {
     "slide_type": "subslide"
    },
    "tags": []
   },
   "outputs": [],
   "source": [
    "rom_bt"
   ]
  },
  {
   "cell_type": "code",
   "execution_count": null,
   "id": "03660831",
   "metadata": {
    "slideshow": {
     "slide_type": "fragment"
    },
    "tags": []
   },
   "outputs": [],
   "source": [
    "print(rom_bt)"
   ]
  },
  {
   "cell_type": "markdown",
   "id": "ce4f8fc5",
   "metadata": {
    "slideshow": {
     "slide_type": "subslide"
    }
   },
   "source": [
    "### Poles"
   ]
  },
  {
   "cell_type": "code",
   "execution_count": null,
   "id": "c240a4f5",
   "metadata": {
    "tags": []
   },
   "outputs": [],
   "source": [
    "fig, ax = plt.subplots()\n",
    "poles_rom = rom_bt.poles()\n",
    "_ = ax.plot(poles_rom.real, poles_rom.imag, 'x')\n",
    "_ = ax.set(\n",
    "    xlabel='Real',\n",
    "    ylabel='Imag',\n",
    "    title='Poles',\n",
    ")"
   ]
  },
  {
   "cell_type": "markdown",
   "id": "cc07fefc-7539-4a92-976b-6767d8e1abee",
   "metadata": {
    "slideshow": {
     "slide_type": "subslide"
    }
   },
   "source": [
    "### Bode Plot"
   ]
  },
  {
   "cell_type": "code",
   "execution_count": null,
   "id": "5386f00c",
   "metadata": {
    "tags": []
   },
   "outputs": [],
   "source": [
    "fig, ax = plt.subplots(2, 1, squeeze=False, figsize=(6, 8), tight_layout=True)\n",
    "_ = fom.transfer_function.bode_plot(w, ax=ax)\n",
    "_ = rom_bt.transfer_function.bode_plot(w, ax=ax, linestyle='--')"
   ]
  },
  {
   "cell_type": "markdown",
   "id": "385b4e29",
   "metadata": {
    "slideshow": {
     "slide_type": "subslide"
    }
   },
   "source": [
    "### Hankel Singular Values"
   ]
  },
  {
   "cell_type": "code",
   "execution_count": null,
   "id": "b518d2f2-c4ab-46a1-874a-61118cab0d11",
   "metadata": {
    "scrolled": true,
    "tags": []
   },
   "outputs": [],
   "source": [
    "hsv = fom.hsv()\n",
    "hsv_bt = rom_bt.hsv()"
   ]
  },
  {
   "cell_type": "code",
   "execution_count": null,
   "id": "9b75626e-1b8d-4708-97d2-65cfa13b62aa",
   "metadata": {
    "tags": []
   },
   "outputs": [],
   "source": [
    "fig, ax = plt.subplots()\n",
    "_ = ax.semilogy(range(1, len(hsv) + 1), hsv, '.-')\n",
    "_ = ax.semilogy(range(1, len(hsv_bt) + 1), hsv_bt, '.-')\n",
    "_ = ax.set(\n",
    "    xlabel='Index $i$',\n",
    "    ylabel=r'$\\sigma_i$',\n",
    "    title='Hankel singular values'\n",
    ")"
   ]
  },
  {
   "cell_type": "markdown",
   "id": "97db801d",
   "metadata": {
    "slideshow": {
     "slide_type": "subslide"
    }
   },
   "source": [
    "### Error Magnitude Plot"
   ]
  },
  {
   "cell_type": "code",
   "execution_count": null,
   "id": "71692282-2977-43d1-8048-ba3691fbc0b4",
   "metadata": {
    "tags": []
   },
   "outputs": [],
   "source": [
    "err_bt = fom - rom_bt"
   ]
  },
  {
   "cell_type": "code",
   "execution_count": null,
   "id": "8775e582-9860-476a-ac4f-2fa3b7301a9e",
   "metadata": {
    "tags": []
   },
   "outputs": [],
   "source": [
    "_ = err_bt.transfer_function.mag_plot(w)"
   ]
  },
  {
   "cell_type": "markdown",
   "id": "55d58793",
   "metadata": {
    "slideshow": {
     "slide_type": "fragment"
    }
   },
   "source": [
    "### $\\mathcal{H}_2$ Relative Error"
   ]
  },
  {
   "cell_type": "code",
   "execution_count": null,
   "id": "42b9d109",
   "metadata": {
    "scrolled": true,
    "tags": []
   },
   "outputs": [],
   "source": [
    "print(err_bt.h2_norm() / fom.h2_norm())"
   ]
  },
  {
   "cell_type": "markdown",
   "id": "0f78c6a7-c7b2-496c-9893-a02ee1755533",
   "metadata": {},
   "source": [
    "## Iterative Rational Krylov Algorithm (IRKA)"
   ]
  },
  {
   "cell_type": "code",
   "execution_count": null,
   "id": "6aff5ce7-210b-46ec-aeaa-8763ac22010e",
   "metadata": {
    "tags": []
   },
   "outputs": [],
   "source": [
    "from pymor.reductors.h2 import IRKAReductor"
   ]
  },
  {
   "cell_type": "code",
   "execution_count": null,
   "id": "ee287e37-1ece-4935-bff1-798b7b896533",
   "metadata": {},
   "outputs": [],
   "source": [
    "irka = ..."
   ]
  },
  {
   "cell_type": "code",
   "execution_count": null,
   "id": "159ca421-43ed-49fb-be64-9acbcae40be6",
   "metadata": {},
   "outputs": [],
   "source": [
    "rom_irka = ..."
   ]
  },
  {
   "cell_type": "markdown",
   "id": "ebb62705-3533-4bfd-96ae-1877290ee376",
   "metadata": {},
   "source": [
    "## `SecondOrderModel`"
   ]
  },
  {
   "cell_type": "code",
   "execution_count": null,
   "id": "a94ab7a8-68eb-4029-9e60-ab6e5e36cc8e",
   "metadata": {
    "tags": []
   },
   "outputs": [],
   "source": [
    "from pymor.models.iosys import SecondOrderModel"
   ]
  },
  {
   "cell_type": "code",
   "execution_count": null,
   "id": "b4de032a-40ea-471d-b9c0-17709d36994c",
   "metadata": {
    "tags": []
   },
   "outputs": [],
   "source": [
    "som = SecondOrderModel.from_matrices(Mso, Dso, Kso, Bso, Cso)"
   ]
  },
  {
   "cell_type": "code",
   "execution_count": null,
   "id": "6c871e46-fbda-4450-9aac-d58bad5dc7b8",
   "metadata": {
    "tags": []
   },
   "outputs": [],
   "source": [
    "som"
   ]
  },
  {
   "cell_type": "code",
   "execution_count": null,
   "id": "fe19405f-98b9-4714-a592-4759b8cba03d",
   "metadata": {
    "tags": []
   },
   "outputs": [],
   "source": [
    "print(som)"
   ]
  },
  {
   "cell_type": "markdown",
   "id": "cc3301db-6fa2-42ad-872d-89d02491f87a",
   "metadata": {
    "tags": []
   },
   "source": [
    "## Second-Order Balanced Truncation"
   ]
  },
  {
   "cell_type": "code",
   "execution_count": null,
   "id": "76544256-46e2-498d-aa65-871899a3ea17",
   "metadata": {
    "tags": []
   },
   "outputs": [],
   "source": [
    "from pymor.reductors.sobt import SOBTpReductor"
   ]
  },
  {
   "cell_type": "code",
   "execution_count": null,
   "id": "1de490e3-1b38-4f7c-93a1-050cd57b52c4",
   "metadata": {
    "tags": []
   },
   "outputs": [],
   "source": [
    "sobtp = ..."
   ]
  },
  {
   "cell_type": "code",
   "execution_count": null,
   "id": "b4ccd704-713b-49ee-89a8-04561364d8cd",
   "metadata": {
    "tags": []
   },
   "outputs": [],
   "source": [
    "rom_sobtp = ..."
   ]
  }
 ],
 "metadata": {
  "jupytext": {
   "formats": "ipynb,md:myst"
  },
  "kernelspec": {
   "display_name": "Python 3 (ipykernel)",
   "language": "python",
   "name": "python3"
  },
  "language_info": {
   "codemirror_mode": {
    "name": "ipython",
    "version": 3
   },
   "file_extension": ".py",
   "mimetype": "text/x-python",
   "name": "python",
   "nbconvert_exporter": "python",
   "pygments_lexer": "ipython3",
   "version": "3.8.12"
  }
 },
 "nbformat": 4,
 "nbformat_minor": 5
}
