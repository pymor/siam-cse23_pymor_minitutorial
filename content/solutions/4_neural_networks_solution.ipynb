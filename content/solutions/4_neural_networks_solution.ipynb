{
 "cells": [
  {
   "cell_type": "markdown",
   "id": "a57b6245-a6ed-4d62-8e07-67be85a3a2e1",
   "metadata": {},
   "source": [
    "# Model order reduction with artificial neural networks in pyMOR\n",
    "\n",
    "## Overview\n",
    "- Application: Parametrized PDEs (stationary and instationary)\n",
    "- Theory: Reduced Basis Methods, Proper Orthogonal Decomposition, Artifical Neural Networks\n",
    "- Practice: Implementation in pyMOR"
   ]
  },
  {
   "cell_type": "markdown",
   "id": "3e136169-4503-4573-b83a-c5803dab356b",
   "metadata": {},
   "source": [
    "## A non-intrusive reduced order method using artificial neural networks\n",
    "\n",
    "### Two scenarios:\n",
    "\n",
    "- Given a full-order model $\\mu\\mapsto u(\\mu)$, but e.g. no affine decomposition of operators\n",
    "- Given only a set $\\{(\\mu_i,u(\\mu_i))\\}_{i=1}^n$ of parameter values with corresponding snapshots\n",
    "\n",
    "### The approach:\n",
    "\n",
    "- Compute a reduced space $V_N$ with (orthonormal) basis $\\Psi_N$ using only snapshot data (via proper orthogonal decomposition)\n",
    "- Project full-order solution $u(\\mu)$ onto $V_N$ (orthogonal projection!):\n",
    "\\begin{align}\n",
    "    \\pi_N\\colon\\mathcal{P}\\to\\mathbb{R}^N,\\qquad\\pi_N(\\mu)=\\Psi_N^\\top u(\\mu)\n",
    "\\end{align}\n",
    "- Function $\\pi_N$ returns for a parameter $\\mu\\in\\mathcal{P}$ the coefficients of the projection $u_N(\\mu)$ of $u(\\mu)$ onto $V_N$ w.r.t. the basis $\\Psi_N$\n",
    "- Approximate the map $\\pi_N$ by a neural network $\\Phi_N$\n",
    "\n",
    "### Error estimate:\n",
    "\n",
    "\\begin{align}\n",
    "    \\lVert u(\\mu)-\\Psi_N\\Phi_N(\\mu)\\rVert\\leq\\underbrace{\\lVert u(\\mu)-u_N(\\mu)\\rVert}_{\\text{best-approximation error in }V_N} + \\underbrace{\\lVert\\pi_N(\\mu)-\\Phi_N(\\mu)\\rVert}_{\\text{approximation error of the neural network}}\n",
    "\\end{align}\n",
    "\n",
    "### Available variants in pyMOR:\n",
    "\n",
    "| Setting | Inputs | Outputs | Visualization |\n",
    "| :-: | :-: | :-: | :-: |\n",
    "| Stationary, State | $\\mu$ | $\\pi_N(\\mu)$ | <img src=\"files/mu_to_coeffs.svg\" alt=\"Feedforward neural network for model order reduction\" width=\"100%\" /> |\n",
    "| Instationary, State | $(\\mu,t)$ | $\\pi_N$$(\\mu,t)$ | <img src=\"files/mu_and_time_to_coeffs.svg\" alt=\"Feedforward neural network for model order reduction\" width=\"100%\" /> |\n",
    "| Stationary, Output | $\\mu$ | $\\mathcal{J}(\\mu)$ | <img src=\"files/mu_to_output.svg\" alt=\"Feedforward neural network for model order reduction\" width=\"100%\" /> |\n",
    "| Instationary, Output | $(\\mu,t)$ | $\\mathcal{J}(\\mu,t)$ | <img src=\"files/mu_and_time_to_output.svg\" alt=\"Feedforward neural network for model order reduction\" width=\"100%\" /> |"
   ]
  },
  {
   "cell_type": "markdown",
   "id": "562dcbf5-8270-4e7c-bf33-c68057aeba7a",
   "metadata": {},
   "source": [
    "## A stationary example in pyMOR\n",
    "\n",
    "### Setting up the problem:\n",
    "\n",
    "Example problem:\n",
    "\\begin{align}\n",
    "    -\\nabla \\cdot \\big(\\sigma(x, \\mu) \\nabla u(x, \\mu) \\big) = f(x, \\mu),\\quad x\\in \\Omega=(0,1)^2,\n",
    "\\end{align}\n",
    "with data functions \n",
    "\\begin{align}\n",
    "    f((x_1, x_2), \\mu) &= 10 \\cdot \\mu + 0.1,\\\\\n",
    "    \\sigma((x_1, x_2), \\mu) &= (1 - x_1) \\cdot \\mu + x_1,\n",
    "\\end{align}\n",
    "where $\\mu \\in (0.1, 1)$ denotes the parameter. Further, we apply the Dirichlet boundary conditions\n",
    "\n",
    "\\begin{align}\n",
    "    u((x_1, x_2), \\mu) = 2x_1\\mu + 0.5,\\quad x=(x_1, x_2) \\in \\partial\\Omega.\n",
    "\\end{align}"
   ]
  },
  {
   "cell_type": "code",
   "execution_count": null,
   "id": "604d1328-cf8f-459a-8183-0d92237d1dee",
   "metadata": {
    "tags": []
   },
   "outputs": [],
   "source": [
    "from pymor.core.logger import set_log_levels\n",
    "set_log_levels({'pymor.discretizers.builtin.cg.DiffusionOperatorP1': 'ERROR', 'pymor.discretizers.builtin.cg.L2ProductP1': 'ERROR'})"
   ]
  },
  {
   "cell_type": "code",
   "execution_count": null,
   "id": "9ff984d8",
   "metadata": {
    "tags": []
   },
   "outputs": [],
   "source": [
    "from pymor.basic import *\n",
    "\n",
    "problem = StationaryProblem(\n",
    "      domain=RectDomain(),\n",
    "\n",
    "      rhs=LincombFunction(\n",
    "          [ExpressionFunction('10', 2), ConstantFunction(1., 2)],\n",
    "          [ProjectionParameterFunctional('mu'), 0.1]),\n",
    "\n",
    "      diffusion=LincombFunction(\n",
    "          [ExpressionFunction('1 - x[0]', 2), ExpressionFunction('x[0]', 2)],\n",
    "          [ProjectionParameterFunctional('mu'), 1]),\n",
    "\n",
    "      dirichlet_data=LincombFunction(\n",
    "          [ExpressionFunction('2 * x[0]', 2), ConstantFunction(1., 2)],\n",
    "          [ProjectionParameterFunctional('mu'), 0.5]),\n",
    "\n",
    "      name='2DProblem'\n",
    "  )\n",
    "\n",
    "fom, _ = discretize_stationary_cg(problem, diameter=1/50)\n",
    "\n",
    "parameter_space = fom.parameters.space((0.1, 1))"
   ]
  },
  {
   "cell_type": "markdown",
   "id": "f1749f5b-f810-443a-9a10-ea9b6720db2a",
   "metadata": {},
   "source": [
    "### Setting up the neural network reductor:"
   ]
  },
  {
   "cell_type": "code",
   "execution_count": null,
   "id": "e193f867",
   "metadata": {
    "tags": []
   },
   "outputs": [],
   "source": [
    "training_set = parameter_space.sample_uniformly(100)\n",
    "validation_set = parameter_space.sample_randomly(20)"
   ]
  },
  {
   "cell_type": "code",
   "execution_count": null,
   "id": "ce02ac5d",
   "metadata": {
    "tags": []
   },
   "outputs": [],
   "source": [
    "from pymor.reductors.neural_network import NeuralNetworkReductor\n",
    "\n",
    "nn_reductor = NeuralNetworkReductor(fom,\n",
    "                                    training_set,\n",
    "                                    validation_set,\n",
    "                                    l2_err=1e-5,  # POD error\n",
    "                                    ann_mse=1e-5)  # Neural network training error"
   ]
  },
  {
   "cell_type": "markdown",
   "id": "ae780783-eab6-42b2-8bfa-8fd36d701741",
   "metadata": {},
   "source": [
    "*Alternative, purely data-driven usage:* Pass pairs of parameters and solutions as training/validation set to the reductor and set `fom=None`."
   ]
  },
  {
   "cell_type": "code",
   "execution_count": null,
   "id": "8f33c190-9bef-4911-924c-78306360e4ee",
   "metadata": {
    "tags": []
   },
   "outputs": [],
   "source": [
    "print(nn_reductor.reduce.__doc__)"
   ]
  },
  {
   "cell_type": "code",
   "execution_count": null,
   "id": "b47f05b2",
   "metadata": {
    "tags": []
   },
   "outputs": [],
   "source": [
    "nn_rom = nn_reductor.reduce()"
   ]
  },
  {
   "cell_type": "code",
   "execution_count": null,
   "id": "dac81fdb-7558-4ddf-87ce-04f61edd29a6",
   "metadata": {
    "tags": []
   },
   "outputs": [],
   "source": [
    "print(f'Reduced basis size: {len(nn_reductor.reduced_basis)}')\n",
    "print(f'Neural network losses: {nn_reductor.losses}')"
   ]
  },
  {
   "cell_type": "markdown",
   "id": "e8f12416-dad0-4613-b6b5-cebb8b17e1c1",
   "metadata": {},
   "source": [
    "### Test of the ROM:"
   ]
  },
  {
   "cell_type": "code",
   "execution_count": null,
   "id": "60c5540b",
   "metadata": {
    "tags": []
   },
   "outputs": [],
   "source": [
    "mu = parameter_space.sample_randomly()\n",
    "\n",
    "U = fom.solve(mu)\n",
    "U_red = nn_rom.solve(mu)\n",
    "U_red_recon = nn_reductor.reconstruct(U_red)\n",
    "\n",
    "fom.visualize((U, U_red_recon, U-U_red_recon),\n",
    "              legend=(f'Full solution for parameter {mu}', f'Reduced solution for parameter {mu}', f'Difference between solution and approximation'),\n",
    "              separate_colorbars=True)"
   ]
  },
  {
   "cell_type": "markdown",
   "id": "00e95312-258f-458a-8480-b48c4a4fe2f0",
   "metadata": {},
   "source": [
    "### Error and runtime comparison:"
   ]
  },
  {
   "cell_type": "code",
   "execution_count": null,
   "id": "4da0f079",
   "metadata": {},
   "outputs": [],
   "source": [
    "test_set = parameter_space.sample_randomly(10)"
   ]
  },
  {
   "cell_type": "code",
   "execution_count": null,
   "id": "5b1cc445",
   "metadata": {},
   "outputs": [],
   "source": [
    "import time\n",
    "import numpy as np\n",
    "\n",
    "def compute_average_errors_and_speedups(rom, reductor):\n",
    "    U = fom.solution_space.empty(reserve=len(test_set))\n",
    "    U_red = fom.solution_space.empty(reserve=len(test_set))\n",
    "\n",
    "    speedups = []\n",
    "    \n",
    "    for mu in test_set:\n",
    "        tic = time.perf_counter()\n",
    "        U.append(fom.solve(mu))\n",
    "        time_fom = time.perf_counter() - tic\n",
    "\n",
    "        tic = time.perf_counter()\n",
    "        U_red.append(reductor.reconstruct(rom.solve(mu)))\n",
    "        time_red = time.perf_counter() - tic\n",
    "\n",
    "        speedups.append(time_fom / time_red)\n",
    "        \n",
    "    absolute_errors = (U - U_red).norm()\n",
    "    relative_errors = (U - U_red).norm() / U.norm()\n",
    "    \n",
    "    return np.average(absolute_errors), np.average(relative_errors), np.average(speedups)"
   ]
  },
  {
   "cell_type": "code",
   "execution_count": null,
   "id": "418507fd",
   "metadata": {},
   "outputs": [],
   "source": [
    "avg_abs_err, avg_rel_err, avg_speedup = compute_average_errors_and_speedups(nn_rom, nn_reductor)\n",
    "\n",
    "print(f'Average absolute error: {avg_abs_err}')\n",
    "print(f'Average relative error: {avg_rel_err}')\n",
    "print(f'Average speedup: {avg_speedup}')"
   ]
  },
  {
   "cell_type": "code",
   "execution_count": null,
   "id": "5d5aa1ee-1381-47bc-b487-002f0d6a4f71",
   "metadata": {},
   "outputs": [],
   "source": [
    "set_log_levels({'pymor.models.basic.StationaryModel': 'ERROR'})"
   ]
  },
  {
   "cell_type": "markdown",
   "id": "28fe63d5-674a-4083-a008-6a3fbc4a6414",
   "metadata": {},
   "source": [
    "### Exercise (Revision of the `StationaryRBReductor` from the morning session):\n",
    "\n",
    "Set up a `StationaryRBReductor` for the FOM using the same reduced basis as built by the `NeuralNetworkReductor` (the reduced basis can be accessed via `nn_reductor.reduced_basis`) and compute a corresponding ROM. Compute the errors and speedups for the test set from above."
   ]
  },
  {
   "cell_type": "code",
   "execution_count": null,
   "id": "a044aeba-21cb-4801-9559-f671666e046d",
   "metadata": {
    "tags": []
   },
   "outputs": [],
   "source": [
    "# Solution:\n",
    "\n",
    "rb_reductor = StationaryRBReductor(fom, nn_reductor.reduced_basis)\n",
    "rb_rom = rb_reductor.reduce()\n",
    "\n",
    "avg_abs_err, avg_rel_err, avg_speedup = compute_average_errors_and_speedups(rb_rom, rb_reductor)\n",
    "\n",
    "print('RB-ROM:')\n",
    "print(f'Average absolute error: {avg_abs_err}')\n",
    "print(f'Average relative error: {avg_rel_err}')\n",
    "print(f'Average speedup: {avg_speedup}')"
   ]
  },
  {
   "cell_type": "markdown",
   "id": "b7154b14-3dd8-413e-9193-ef9c18e8dfc5",
   "metadata": {},
   "source": [
    "### Exercise:\n",
    "\n",
    "Create two lists of tuples of parameters and corresponding solutions of the FOM - one for the training set and one for the validation set. Create a new `NeuralNetworkReductor` with these lists as inputs instead of a FOM (use `l2_err=1e-5` and `ann_mse=1e-5` as above). Call the `reduce`-method of the reductor (it might be necessary to increase the number of restarts to train a neural network that reaches the prescribed tolerance) and evaluate the performance of the ROM compared to the FOM."
   ]
  },
  {
   "cell_type": "code",
   "execution_count": null,
   "id": "0b506391-ca52-458e-b5a3-49ae8c1e4677",
   "metadata": {},
   "outputs": [],
   "source": [
    "# Solution:\n",
    "\n",
    "training_data = []\n",
    "for mu in training_set:\n",
    "    training_data.append((mu, fom.solve(mu)))\n",
    "\n",
    "validation_data = []\n",
    "for mu in validation_set:\n",
    "    validation_data.append((mu, fom.solve(mu)))\n",
    "\n",
    "reductor_data_driven = NeuralNetworkReductor(training_set=training_data,\n",
    "                                             validation_set=validation_data,\n",
    "                                             l2_err=1e-5, ann_mse=1e-5)\n",
    "rom_data_driven = reductor_data_driven.reduce(restarts=100)\n",
    "\n",
    "avg_abs_err, avg_rel_err, avg_speedup = compute_average_errors_and_speedups(rom_data_driven, reductor_data_driven)\n",
    "\n",
    "print('Data-driven neural network:')\n",
    "print(f'Average absolute error: {avg_abs_err}')\n",
    "print(f'Average relative error: {avg_rel_err}')\n",
    "print(f'Average speedup: {avg_speedup}')"
   ]
  },
  {
   "cell_type": "markdown",
   "id": "bb603c8b",
   "metadata": {
    "tags": []
   },
   "source": [
    "## Extending the problem by output quantities"
   ]
  },
  {
   "cell_type": "code",
   "execution_count": null,
   "id": "f8c2b7c2",
   "metadata": {},
   "outputs": [],
   "source": [
    "problem = problem.with_(outputs=[('l2', problem.rhs), ('l2_boundary', problem.dirichlet_data)])"
   ]
  },
  {
   "cell_type": "code",
   "execution_count": null,
   "id": "8f8620fa",
   "metadata": {},
   "outputs": [],
   "source": [
    "fom, _ = discretize_stationary_cg(problem, diameter=1/50)"
   ]
  },
  {
   "cell_type": "code",
   "execution_count": null,
   "id": "9d7aa553",
   "metadata": {
    "tags": []
   },
   "outputs": [],
   "source": [
    "from pymor.reductors.neural_network import NeuralNetworkStatefreeOutputReductor\n",
    "\n",
    "output_reductor = NeuralNetworkStatefreeOutputReductor(fom,\n",
    "                                                       training_set,\n",
    "                                                       validation_set,\n",
    "                                                       validation_loss=1e-5)\n",
    "\n",
    "output_rom = output_reductor.reduce(log_loss_frequency=2)"
   ]
  },
  {
   "cell_type": "code",
   "execution_count": null,
   "id": "f129c440",
   "metadata": {
    "tags": []
   },
   "outputs": [],
   "source": [
    "def compute_average_output_errors_and_speedups(rom):\n",
    "    outputs = []\n",
    "    outputs_red = []\n",
    "    outputs_speedups = []\n",
    "\n",
    "    for mu in test_set:\n",
    "        tic = time.perf_counter()\n",
    "        outputs.append(fom.output(mu=mu))\n",
    "        time_fom = time.perf_counter() - tic\n",
    "\n",
    "        tic = time.perf_counter()\n",
    "        outputs_red.append(rom.output(mu=mu))\n",
    "        time_red = time.perf_counter() - tic\n",
    "    \n",
    "        outputs_speedups.append(time_fom / time_red)\n",
    "\n",
    "    outputs = np.squeeze(np.array(outputs))\n",
    "    outputs_red = np.squeeze(np.array(outputs_red))\n",
    "\n",
    "    outputs_absolute_errors = np.abs(outputs - outputs_red)\n",
    "    outputs_relative_errors = np.abs(outputs - outputs_red) / np.abs(outputs)\n",
    "    \n",
    "    return np.average(outputs_absolute_errors), np.average(outputs_relative_errors), np.average(outputs_speedups)\n",
    "\n",
    "output_avg_abs_err, output_avg_rel_err, output_avg_speedup = compute_average_output_errors_and_speedups(output_rom)"
   ]
  },
  {
   "cell_type": "code",
   "execution_count": null,
   "id": "c1024de9-3098-4725-a299-3b7b2b0bbe63",
   "metadata": {
    "tags": []
   },
   "outputs": [],
   "source": [
    "print(f'Average absolute error: {output_avg_abs_err}')\n",
    "print(f'Average relative error: {output_avg_rel_err}')\n",
    "print(f'Average speedup: {output_avg_speedup}')"
   ]
  },
  {
   "cell_type": "markdown",
   "id": "a6b4a5eb-f3a0-41b2-bd10-505479d0a56a",
   "metadata": {},
   "source": [
    "### Exercise:\n",
    "\n",
    "Set up a new `NeuralNetworkReductor` for the changed FOM (which now includes the output quantities) with the same tolerances. Use this new reductor to compute a ROM that also takes the output into account and compare the results on the test set with those from the `NeuralNetworkStatefreeOutputReductor`."
   ]
  },
  {
   "cell_type": "code",
   "execution_count": null,
   "id": "9999d78a-1cda-4acf-a7b4-2f90bf14cbda",
   "metadata": {
    "tags": []
   },
   "outputs": [],
   "source": [
    "# Solution:\n",
    "\n",
    "nn_reductor_with_output = NeuralNetworkReductor(fom, training_set, validation_set, l2_err=1e-5, ann_mse=1e-5)\n",
    "rom_with_output = nn_reductor_with_output.reduce()\n",
    "\n",
    "output_avg_abs_err, output_avg_rel_err, output_avg_speedup = compute_average_output_errors_and_speedups(rom_with_output)\n",
    "\n",
    "print(f'Average absolute error: {output_avg_abs_err}')\n",
    "print(f'Average relative error: {output_avg_rel_err}')\n",
    "print(f'Average speedup: {output_avg_speedup}')"
   ]
  },
  {
   "cell_type": "markdown",
   "id": "3610593c-35a8-4aaa-85e3-92f9159fd176",
   "metadata": {},
   "source": [
    "## Summary\n",
    "\n",
    "- pyMOR provides highly customizable training routines for neural networks with various options and parameters to tune\n",
    "- Implementation respects abstract interfaces, i.e. the reductors can be directly applied to models/solutions originating from external solvers (see for instance https://github.com/pymor/pymor/blob/main/src/pymordemos/neural_networks_instationary.py for an example of Navier-Stokes equations using the FEniCS bindings in pyMOR)\n",
    "- Applicable to stationary and instationary problems\n",
    "- Different architecture called long short-term memory (LSTM) neural networks is also available for instationary problems (this architecture is closely related to time-stepping schemes)"
   ]
  }
 ],
 "metadata": {
  "jupyter": {
   "jupytext": {
    "cell_metadata_filter": "-all",
    "formats": "ipynb,myst",
    "main_language": "python",
    "text_representation": {
     "extension": ".md",
     "format_name": "myst",
     "format_version": "1.3",
     "jupytext_version": "1.11.2"
    }
   }
  },
  "jupytext": {
   "text_representation": {
    "format_name": "myst"
   }
  },
  "kernelspec": {
   "display_name": "Python 3 (ipykernel)",
   "language": "python",
   "name": "python3"
  },
  "language_info": {
   "codemirror_mode": {
    "name": "ipython",
    "version": 3
   },
   "file_extension": ".py",
   "mimetype": "text/x-python",
   "name": "python",
   "nbconvert_exporter": "python",
   "pygments_lexer": "ipython3",
   "version": "3.10.6"
  }
 },
 "nbformat": 4,
 "nbformat_minor": 5
}
