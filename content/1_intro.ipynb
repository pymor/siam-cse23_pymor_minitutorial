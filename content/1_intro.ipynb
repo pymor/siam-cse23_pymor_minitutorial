{
 "cells": [
  {
   "cell_type": "code",
   "execution_count": null,
   "id": "34ae5730-7fff-4eb1-bd53-5e5f400d5429",
   "metadata": {},
   "outputs": [],
   "source": [
    "import sys\n",
    "if 'pyodide' in sys.modules:\n",
    "    import piplite\n",
    "    await piplite.install(['pymor', 'matplotlib', 'ipython'])"
   ]
  },
  {
   "cell_type": "markdown",
   "id": "b553e03d",
   "metadata": {
    "slideshow": {
     "slide_type": "slide"
    }
   },
   "source": [
    "# pyMOR -- Model Order Reduction with pyMOR"
   ]
  },
  {
   "cell_type": "markdown",
   "id": "bf460cb4",
   "metadata": {
    "slideshow": {
     "slide_type": "slide"
    }
   },
   "source": [
    "## What is pyMOR?"
   ]
  },
  {
   "cell_type": "markdown",
   "id": "316b3df0",
   "metadata": {
    "slideshow": {
     "slide_type": "fragment"
    }
   },
   "source": [
    "pyMOR is ...\n",
    "\n",
    "- a software library for writing **M**odel **O**rder **R**eduction applications\n",
    "- in the **py**thon programming language.\n",
    "- BSD-licensed, fork us on [GitHub](https://github.com/pymor/pymor).\n",
    "- Everyone can contribute, everyone can become main developer.\n",
    "- Started 2012, 25k lines of code (without tests), 9k commits."
   ]
  },
  {
   "cell_type": "markdown",
   "id": "3e635d54",
   "metadata": {
    "slideshow": {
     "slide_type": "subslide"
    }
   },
   "source": [
    "## Design Goals"
   ]
  },
  {
   "cell_type": "markdown",
   "id": "d0093bb3-6928-4c2d-a990-2ac4ca4ecdd5",
   "metadata": {
    "slideshow": {
     "slide_type": "fragment"
    }
   },
   "source": [
    "- **Goal 1:** One library for algorithm development *and* large-scale applications.\n",
    "    - Small NumPy/SciPy-based discretization toolkit for easy prototyping.\n",
    "    - `VectorArray`, `Operator`, `Model` interfaces for seamless integration with high-performance PDE solvers."
   ]
  },
  {
   "cell_type": "markdown",
   "id": "7afcf38e-b9b2-4c39-b459-81687fd71d34",
   "metadata": {
    "slideshow": {
     "slide_type": "fragment"
    }
   },
   "source": [
    "- **Goal 2:** Unified view on MOR.\n",
    "    - Implement RB and system-theoretic methods in one common language."
   ]
  },
  {
   "cell_type": "markdown",
   "id": "163d6517",
   "metadata": {
    "slideshow": {
     "slide_type": "subslide"
    }
   },
   "source": [
    "## Implemented Algorithms\n",
    "\n",
    "- Gram-Schmidt, POD, HAPOD\n",
    "- Greedy basis generation with different extension algorithms\n",
    "- Automatic (Petrov-)Galerkin projection of arbitrarily nested affine combinations of operators\n",
    "- Interpolation of arbitrary (nonlinear) operators, EI-Greedy, DEIM\n",
    "- A posteriori error estimation\n",
    "- System theory methods: balanced truncation, IRKA, ...\n",
    "- Structure-preserving methods: symplectic MOR, PH systems (WIP)\n",
    "- Data-driven methods: DMD, ANNs, ...\n",
    "- Iterative linear solvers, eigenvalue computation, Newton algorithm, time-stepping algorithms"
   ]
  },
  {
   "cell_type": "markdown",
   "id": "44fd1356",
   "metadata": {
    "slideshow": {
     "slide_type": "subslide"
    }
   },
   "source": [
    "## PDE Solvers\n",
    "\n",
    "### Official Support:\n",
    "\n",
    "- [deal.II](https://dealii.org)\n",
    "- [FEniCS](https://fenicsproject.org)\n",
    "- [NGSolve](https://ngsolve.org)\n",
    "\n",
    "### Used with:\n",
    "\n",
    "- [DUNE](https://dune-project.org)\n",
    "- [BEST](https://www.itwm.fraunhofer.de/en/departments/sms/products-services/best-battery-electrochemistry-simulation-tool.html)\n",
    "- [GridLOD](https://github.com/fredrikhellman/gridlod)\n",
    "- file I/O, e.g. [COMSOL](https://comsol.com)\n",
    "- ..."
   ]
  },
  {
   "cell_type": "markdown",
   "id": "ea4af71e",
   "metadata": {
    "slideshow": {
     "slide_type": "subslide"
    }
   },
   "source": [
    "## Hello pyMOR!"
   ]
  },
  {
   "cell_type": "code",
   "execution_count": null,
   "id": "2ffd351e",
   "metadata": {
    "slideshow": {
     "slide_type": "fragment"
    }
   },
   "outputs": [],
   "source": [
    "import pymor\n",
    "pymor.config"
   ]
  },
  {
   "cell_type": "code",
   "execution_count": null,
   "id": "3ec75f91",
   "metadata": {
    "slideshow": {
     "slide_type": "subslide"
    }
   },
   "outputs": [],
   "source": [
    "from pymor.basic import *\n",
    "print_defaults()"
   ]
  },
  {
   "cell_type": "markdown",
   "id": "1958df51",
   "metadata": {
    "slideshow": {
     "slide_type": "subslide"
    }
   },
   "source": [
    "## Subpackages of the pymor Package\n",
    "\n",
    "|                                |                                                      |\n",
    "| :-                             | :-                                                   |\n",
    "| **`pymor.algorithms`**         | generic algorithms                                   |\n",
    "| **`pymor.analyticalproblems`** | problem descriptions for use with discretizers       |\n",
    "| `pymor.bindings`               | bindings to external solvers                         |\n",
    "| `pymor.core`                   | base classes/caching/defaults/logging                |\n",
    "| **`pymor.discretizers`**       | create `Models` from `analyticalproblems`            |\n",
    "| **`pymor.models`**             | `Model` interface/implementations                    |\n",
    "| **`pymor.operators`**          | `Operator` interface/constructions                   |\n",
    "| `pymor.parallel`               | `WorkerPools` for parallelization                    |\n",
    "| **`pymor.parameters`**         | parameter support/`ParameterFunctionals`             |\n",
    "| **`pymor.reductors`**          | most MOR algorithms (rest in `pymor.algorithms`)     |\n",
    "| `pymor.tools`                  | non MOR-specific support code (pprint/floatcmp, ...) |\n",
    "| **`pymor.vectorarrays`**       | `VectorArray` interface/implementations              |"
   ]
  },
  {
   "cell_type": "markdown",
   "id": "86168a55-bb20-442c-b31d-bb8a2b0d1e84",
   "metadata": {
    "slideshow": {
     "slide_type": "subslide"
    }
   },
   "source": [
    "## Getting help\n",
    "\n",
    "- pyMOR's documentation can be found at\n",
    "\n",
    "  > https://docs.pymor.org\n",
    "\n",
    "- Be sure to read the [introduction](https://docs.pymor.org/2021-1-0/getting_started.html),\n",
    "  the [technical overview](https://docs.pymor.org/2021-1-0/technical_overview.html) and\n",
    "  the [tutorials](https://docs.pymor.org/2021-1-0/tutorials.html).\n",
    "\n",
    "- Ask questions on\n",
    "\n",
    "  > https://github.com/pymor/pymor/discussions"
   ]
  }
 ],
 "metadata": {
  "jupytext": {
   "formats": "ipynb,md:myst"
  },
  "kernelspec": {
   "display_name": "Python 3 (ipykernel)",
   "language": "python",
   "name": "python3"
  },
  "language_info": {
   "codemirror_mode": {
    "name": "ipython",
    "version": 3
   },
   "file_extension": ".py",
   "mimetype": "text/x-python",
   "name": "python",
   "nbconvert_exporter": "python",
   "pygments_lexer": "ipython3",
   "version": "3.9.2"
  }
 },
 "nbformat": 4,
 "nbformat_minor": 5
}
