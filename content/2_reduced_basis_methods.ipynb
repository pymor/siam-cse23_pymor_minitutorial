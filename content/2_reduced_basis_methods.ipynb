{
 "cells": [
  {
   "cell_type": "markdown",
   "id": "a9eba35a",
   "metadata": {
    "slideshow": {
     "slide_type": "slide"
    }
   },
   "source": [
    "# Reduced Basis Methods with pyMOR"
   ]
  },
  {
   "cell_type": "code",
   "execution_count": null,
   "id": "4424cfdc-8830-4793-9cc6-6c8f86d9219e",
   "metadata": {},
   "outputs": [],
   "source": [
    "import sys\n",
    "if 'pyodide' in sys.modules:\n",
    "    import piplite\n",
    "    await piplite.install(['pymor', 'matplotlib', 'ipython'])"
   ]
  },
  {
   "cell_type": "markdown",
   "id": "f082ce65",
   "metadata": {
    "slideshow": {
     "slide_type": "subslide"
    }
   },
   "source": [
    "## Building the FOM"
   ]
  },
  {
   "cell_type": "markdown",
   "id": "afcc2f68",
   "metadata": {
    "slideshow": {
     "slide_type": "subslide"
    }
   },
   "source": [
    "### The Thermal Block Problem\n",
    "\n",
    "Solve:\n",
    "\n",
    "\\begin{align}\n",
    "- \\nabla \\cdot [d(x, \\mu) \\nabla u(x, \\mu)] &= f(x),  & x &\\in \\Omega,\\\\\n",
    "                                  u(x, \\mu) &= 0,     & x &\\in \\partial\\Omega,\n",
    "\\end{align}\n",
    "\n",
    "where\n",
    "\n",
    "\\begin{align}\n",
    "d(x, \\mu) &= \\sum_{q=1}^Q \\mathbb{1}_{\\Omega_q}, \\\\\n",
    "f(x)      &= 1.\n",
    "\\end{align}\n",
    "\n",
    "satisfying $\\overline{\\Omega} = \\overline{\\dot{\\bigcup}_{i=1}^{Q} \\Omega_q}$."
   ]
  },
  {
   "cell_type": "markdown",
   "id": "c09c38b4",
   "metadata": {
    "slideshow": {
     "slide_type": "subslide"
    }
   },
   "source": [
    "### Setting up an analytical description of the thermal block problem\n",
    "\n",
    "The thermal block problem already comes with pyMOR:"
   ]
  },
  {
   "cell_type": "code",
   "execution_count": null,
   "id": "25bc29fa-cc06-42ce-839b-4be79dadfdb3",
   "metadata": {},
   "outputs": [],
   "source": [
    "!pip install 'ipywidgets<8'  # for Binder"
   ]
  },
  {
   "cell_type": "code",
   "execution_count": null,
   "id": "ad243544",
   "metadata": {},
   "outputs": [],
   "source": [
    "from pymor.basic import *\n",
    "p = thermal_block_problem([2,2])"
   ]
  },
  {
   "cell_type": "markdown",
   "id": "6043cb50",
   "metadata": {
    "slideshow": {
     "slide_type": "fragment"
    }
   },
   "source": [
    "Our problem is parameterized:"
   ]
  },
  {
   "cell_type": "code",
   "execution_count": null,
   "id": "428d2098",
   "metadata": {},
   "outputs": [],
   "source": [
    "p.parameters"
   ]
  },
  {
   "cell_type": "markdown",
   "id": "76077dc0",
   "metadata": {
    "slideshow": {
     "slide_type": "subslide"
    }
   },
   "source": [
    "### Looking at the definition\n",
    "\n",
    "We can easily look at the definition of `p` by printing its `repr`:"
   ]
  },
  {
   "cell_type": "code",
   "execution_count": null,
   "id": "b5c9a230",
   "metadata": {},
   "outputs": [],
   "source": [
    "p"
   ]
  },
  {
   "cell_type": "markdown",
   "id": "5eb2c807",
   "metadata": {
    "slideshow": {
     "slide_type": "subslide"
    }
   },
   "source": [
    "### Building a discrete model\n",
    "\n",
    "We use the builtin discretizer `discretize_stationary_cg` to compute a finite-element discretization of the problem:"
   ]
  },
  {
   "cell_type": "code",
   "execution_count": null,
   "id": "b9ed01b2",
   "metadata": {},
   "outputs": [],
   "source": [
    "from pymor.basic import *\n",
    "fom, data = discretize_stationary_cg(p, diameter=1/100)"
   ]
  },
  {
   "cell_type": "markdown",
   "id": "236a1d13",
   "metadata": {
    "slideshow": {
     "slide_type": "fragment"
    }
   },
   "source": [
    "`fom` is a `Model`. It has the same `Parameters` as `p`:"
   ]
  },
  {
   "cell_type": "code",
   "execution_count": null,
   "id": "fb2e9d07",
   "metadata": {},
   "outputs": [],
   "source": [
    "fom.parameters"
   ]
  },
  {
   "cell_type": "markdown",
   "id": "4d3f152c",
   "metadata": {
    "slideshow": {
     "slide_type": "subslide"
    }
   },
   "source": [
    "### Looking at the model\n",
    "\n",
    "`fom` inherits its structure from `p`:"
   ]
  },
  {
   "cell_type": "code",
   "execution_count": null,
   "id": "542b7e1e",
   "metadata": {},
   "outputs": [],
   "source": [
    "fom"
   ]
  },
  {
   "cell_type": "markdown",
   "id": "0a9cc641",
   "metadata": {
    "slideshow": {
     "slide_type": "subslide"
    }
   },
   "source": [
    "### Note\n",
    "\n",
    "> Using an `analyticalproblem` and a `discretizer` is just one way\n",
    "  to build the FOM.\n",
    "  \n",
    "> Everything that follows works the same for a FOM built using an external PDE solver."
   ]
  },
  {
   "cell_type": "markdown",
   "id": "e3a5255f",
   "metadata": {
    "slideshow": {
     "slide_type": "subslide"
    }
   },
   "source": [
    "### Solving the FOM\n",
    "\n",
    "Remember the FOM's parameters:"
   ]
  },
  {
   "cell_type": "code",
   "execution_count": null,
   "id": "54f64f6d",
   "metadata": {},
   "outputs": [],
   "source": [
    "fom.parameters"
   ]
  },
  {
   "cell_type": "markdown",
   "id": "279087db",
   "metadata": {
    "slideshow": {
     "slide_type": "fragment"
    }
   },
   "source": [
    "To `solve` the FOM, we need to specify values for those parameters:"
   ]
  },
  {
   "cell_type": "code",
   "execution_count": null,
   "id": "7ead2f8b",
   "metadata": {},
   "outputs": [],
   "source": [
    "U = fom.solve({'diffusion': [1., 0.01, 0.1, 1]})"
   ]
  },
  {
   "cell_type": "markdown",
   "id": "7fb84300",
   "metadata": {
    "slideshow": {
     "slide_type": "fragment"
    }
   },
   "source": [
    "`U` is a `VectorArray`, an ordered collection of vectors of the same dimension:"
   ]
  },
  {
   "cell_type": "code",
   "execution_count": null,
   "id": "882573a6",
   "metadata": {},
   "outputs": [],
   "source": [
    "U"
   ]
  },
  {
   "cell_type": "markdown",
   "id": "31a95d3f",
   "metadata": {
    "slideshow": {
     "slide_type": "fragment"
    }
   },
   "source": [
    "> There is not the notion of a single vector in pyMOR! Don't try to get hold of one!"
   ]
  },
  {
   "cell_type": "markdown",
   "id": "91e51598",
   "metadata": {
    "slideshow": {
     "slide_type": "subslide"
    }
   },
   "source": [
    "### Some words about VectorArrays\n",
    "\n",
    "Each `VectorArray` has a length, giving you the number of vectors:"
   ]
  },
  {
   "cell_type": "code",
   "execution_count": null,
   "id": "11f24f5e",
   "metadata": {},
   "outputs": [],
   "source": [
    "len(U)"
   ]
  },
  {
   "cell_type": "markdown",
   "id": "658422af",
   "metadata": {
    "slideshow": {
     "slide_type": "fragment"
    }
   },
   "source": [
    "Its dimension gives you the *uniform* size of each vector in the array:"
   ]
  },
  {
   "cell_type": "code",
   "execution_count": null,
   "id": "a15a1c70",
   "metadata": {},
   "outputs": [],
   "source": [
    "U.dim"
   ]
  },
  {
   "cell_type": "markdown",
   "id": "520299ae",
   "metadata": {
    "slideshow": {
     "slide_type": "subslide"
    }
   },
   "source": [
    "### Supported Operations:\n",
    "\n",
    "|                  |                                                        |\n",
    "| :-               | :-                                                     |\n",
    "| `+`/`-`/`*`      | elementwise addition/subtraction/scalar multiplication |\n",
    "| `inner`          | matrix of inner products between all vectors           |\n",
    "| `pairwise_inner` | list of pairwise inner products                        |\n",
    "| `lincomb`        | linear combination of the vectors in the array         |\n",
    "| `scal`           | in-place scalar multiplication                         |\n",
    "| `axpy`           | in-place BLAS axpy operation                           |\n",
    "| `dofs`           | return some degrees of freedom as NumPy array          |\n",
    "| `norm`           | list of norms                                          |\n",
    "| `append`         | append vectors from another array                      |"
   ]
  },
  {
   "cell_type": "markdown",
   "id": "20c382dd",
   "metadata": {
    "slideshow": {
     "slide_type": "subslide"
    }
   },
   "source": [
    "### Playing a bit with VectorArrays\n",
    "\n",
    "> All `VectorArrays` are created by their `VectorSpace`"
   ]
  },
  {
   "cell_type": "code",
   "execution_count": null,
   "id": "98a89fc6",
   "metadata": {},
   "outputs": [],
   "source": [
    "V = fom.solution_space.empty()"
   ]
  },
  {
   "cell_type": "markdown",
   "id": "c1ed0f99",
   "metadata": {},
   "source": [
    "Let's accumulate some solutions:"
   ]
  },
  {
   "cell_type": "code",
   "execution_count": null,
   "id": "1c30703c",
   "metadata": {},
   "outputs": [],
   "source": [
    "for mu in p.parameter_space.sample_randomly(10):\n",
    "    V.append(fom.solve(mu))"
   ]
  },
  {
   "cell_type": "code",
   "execution_count": null,
   "id": "7df861e5",
   "metadata": {},
   "outputs": [],
   "source": [
    "# your code here ..."
   ]
  },
  {
   "cell_type": "markdown",
   "id": "919a7650",
   "metadata": {
    "slideshow": {
     "slide_type": "subslide"
    }
   },
   "source": [
    "### Indexing\n",
    "We can index a `VectorArray` using numbers, sequences of numbers, or slices, e.g.:"
   ]
  },
  {
   "cell_type": "code",
   "execution_count": null,
   "id": "5b0f079b",
   "metadata": {},
   "outputs": [],
   "source": [
    "V_indexed = V[3:6]"
   ]
  },
  {
   "cell_type": "markdown",
   "id": "7d6b91e9",
   "metadata": {},
   "source": [
    "Indexing **always** create a view on the original array:"
   ]
  },
  {
   "cell_type": "code",
   "execution_count": null,
   "id": "e21251cf",
   "metadata": {},
   "outputs": [],
   "source": [
    "print(V_indexed.is_view)\n",
    "V_indexed *= 0\n",
    "V.norm()"
   ]
  },
  {
   "cell_type": "markdown",
   "id": "9f05a2d6",
   "metadata": {
    "slideshow": {
     "slide_type": "subslide"
    }
   },
   "source": [
    "### Looking at the solution\n",
    "\n",
    "We can use the `visualize` method to plot the solution:"
   ]
  },
  {
   "cell_type": "code",
   "execution_count": null,
   "id": "0fd226ad",
   "metadata": {},
   "outputs": [],
   "source": [
    "fom.visualize(U)"
   ]
  },
  {
   "cell_type": "markdown",
   "id": "4a8d80a6",
   "metadata": {
    "slideshow": {
     "slide_type": "subslide"
    }
   },
   "source": [
    "### Looking at the solution\n",
    "\n",
    "An array with multiple elements is visualized as a time-series:"
   ]
  },
  {
   "cell_type": "code",
   "execution_count": null,
   "id": "68894403",
   "metadata": {},
   "outputs": [],
   "source": [
    "fom.visualize(V)"
   ]
  },
  {
   "cell_type": "markdown",
   "id": "23622b8d",
   "metadata": {
    "slideshow": {
     "slide_type": "subslide"
    }
   },
   "source": [
    "### Is the solution really a solution?\n",
    "\n",
    "We compute the residual:"
   ]
  },
  {
   "cell_type": "code",
   "execution_count": null,
   "id": "f5e96deb",
   "metadata": {},
   "outputs": [],
   "source": [
    "mu = fom.parameters.parse([1., 0.01, 0.1, 1])\n",
    "U = fom.solve(mu)\n",
    "(fom.operator.apply(U, mu=mu) - fom.rhs.as_vector(mu)).norm()"
   ]
  },
  {
   "cell_type": "markdown",
   "id": "48ea79e6",
   "metadata": {},
   "source": [
    "> If you implement a `Model`, make sure that `solve` really returns solutions with zero residual!"
   ]
  },
  {
   "cell_type": "markdown",
   "id": "0b9e2da8",
   "metadata": {
    "slideshow": {
     "slide_type": "subslide"
    }
   },
   "source": [
    "### So how is `fom.rhs` defined?\n",
    "\n",
    "Let's look at it:"
   ]
  },
  {
   "cell_type": "code",
   "execution_count": null,
   "id": "1b73cd4f",
   "metadata": {},
   "outputs": [],
   "source": [
    "fom.rhs"
   ]
  },
  {
   "cell_type": "markdown",
   "id": "e6aaed35",
   "metadata": {
    "slideshow": {
     "slide_type": "fragment"
    }
   },
   "source": [
    "What does `as_vector` do?"
   ]
  },
  {
   "cell_type": "code",
   "execution_count": null,
   "id": "db8ec380",
   "metadata": {},
   "outputs": [],
   "source": [
    "from pymor.tools.formatsrc import print_source\n",
    "print_source(fom.rhs.as_vector)"
   ]
  },
  {
   "cell_type": "markdown",
   "id": "ad96f3b3",
   "metadata": {
    "slideshow": {
     "slide_type": "subslide"
    }
   },
   "source": [
    "## Reducing the FOM"
   ]
  },
  {
   "cell_type": "markdown",
   "id": "fa1e2c6f",
   "metadata": {
    "slideshow": {
     "slide_type": "subslide"
    }
   },
   "source": [
    "### Building an approximation space\n",
    "\n",
    "As before, we compute some random solution **snapshots** of the FOM, which will\n",
    "span our **reduced** approximation space:"
   ]
  },
  {
   "cell_type": "code",
   "execution_count": null,
   "id": "48b4a1b5",
   "metadata": {},
   "outputs": [],
   "source": [
    "snapshots = fom.solution_space.empty()\n",
    "for mu in p.parameter_space.sample_randomly(10):\n",
    "    snapshots.append(fom.solve(mu))"
   ]
  },
  {
   "cell_type": "markdown",
   "id": "fe4ffc24",
   "metadata": {},
   "source": [
    "It's a good idea, to orthonormalize the basis:"
   ]
  },
  {
   "cell_type": "code",
   "execution_count": null,
   "id": "83061135",
   "metadata": {},
   "outputs": [],
   "source": [
    "basis = gram_schmidt(snapshots)"
   ]
  },
  {
   "cell_type": "markdown",
   "id": "beff0d38",
   "metadata": {
    "slideshow": {
     "slide_type": "subslide"
    }
   },
   "source": [
    "### Projecting the Model\n",
    "\n",
    "In pyMOR, ROMs are built using a `Reductor`. Let's pick the most basic `Reductor`\n",
    "available for a `StationaryModel`:"
   ]
  },
  {
   "cell_type": "code",
   "execution_count": null,
   "id": "092fc935",
   "metadata": {},
   "outputs": [],
   "source": [
    "reductor = StationaryRBReductor(fom, basis)"
   ]
  },
  {
   "cell_type": "markdown",
   "id": "ecbce5c7",
   "metadata": {},
   "source": [
    "Every reductor has a `reduce` method, which builds the ROM:"
   ]
  },
  {
   "cell_type": "code",
   "execution_count": null,
   "id": "b3af8e2f",
   "metadata": {},
   "outputs": [],
   "source": [
    "rom = reductor.reduce()"
   ]
  },
  {
   "cell_type": "markdown",
   "id": "6da56f71",
   "metadata": {
    "slideshow": {
     "slide_type": "subslide"
    }
   },
   "source": [
    "### Comparing ROM and FOM"
   ]
  },
  {
   "cell_type": "code",
   "execution_count": null,
   "id": "c2a16230",
   "metadata": {},
   "outputs": [],
   "source": [
    "fom"
   ]
  },
  {
   "cell_type": "code",
   "execution_count": null,
   "id": "d7f2a89c",
   "metadata": {},
   "outputs": [],
   "source": [
    "rom"
   ]
  },
  {
   "cell_type": "markdown",
   "id": "83c4a9b8",
   "metadata": {
    "slideshow": {
     "slide_type": "subslide"
    }
   },
   "source": [
    "### Solving the ROM\n",
    "\n",
    "To solve the ROM, we just use `solve` again,"
   ]
  },
  {
   "cell_type": "code",
   "execution_count": null,
   "id": "e8e9c03c",
   "metadata": {},
   "outputs": [],
   "source": [
    "mu = fom.parameters.parse([1., 0.01, 0.1, 1])\n",
    "u_rom = rom.solve(mu)"
   ]
  },
  {
   "cell_type": "markdown",
   "id": "e85d6e94",
   "metadata": {
    "slideshow": {
     "slide_type": "fragment"
    }
   },
   "source": [
    "to get the reduced coefficients:"
   ]
  },
  {
   "cell_type": "code",
   "execution_count": null,
   "id": "34de3020",
   "metadata": {},
   "outputs": [],
   "source": [
    "u_rom"
   ]
  },
  {
   "cell_type": "markdown",
   "id": "071cfc8c",
   "metadata": {
    "slideshow": {
     "slide_type": "fragment"
    }
   },
   "source": [
    "A high-dimensional representation is obtained from the `reductor`:"
   ]
  },
  {
   "cell_type": "code",
   "execution_count": null,
   "id": "153c0846",
   "metadata": {},
   "outputs": [],
   "source": [
    "U_rom = reductor.reconstruct(u_rom)"
   ]
  },
  {
   "cell_type": "markdown",
   "id": "4e52a779",
   "metadata": {
    "slideshow": {
     "slide_type": "subslide"
    }
   },
   "source": [
    "### Computing the MOR error\n",
    "\n",
    "Let's compute the error:"
   ]
  },
  {
   "cell_type": "code",
   "execution_count": null,
   "id": "310a94ad",
   "metadata": {},
   "outputs": [],
   "source": [
    "U = fom.solve(mu)\n",
    "ERR = U - U_rom\n",
    "ERR.norm() / U.norm()"
   ]
  },
  {
   "cell_type": "markdown",
   "id": "99e14b7b",
   "metadata": {
    "slideshow": {
     "slide_type": "fragment"
    }
   },
   "source": [
    "and look at it:"
   ]
  },
  {
   "cell_type": "code",
   "execution_count": null,
   "id": "06e883ae",
   "metadata": {},
   "outputs": [],
   "source": [
    "fom.visualize(ERR)"
   ]
  },
  {
   "cell_type": "markdown",
   "id": "4f2b77e3",
   "metadata": {
    "slideshow": {
     "slide_type": "subslide"
    }
   },
   "source": [
    "### Certified Reduced Basis Method\n",
    "\n",
    "Let's use use a more sophisticated `reductor` which assembles an efficient\n",
    "upper bound for the MOR error:"
   ]
  },
  {
   "cell_type": "code",
   "execution_count": null,
   "id": "5c6c9472",
   "metadata": {},
   "outputs": [],
   "source": [
    "reductor = CoerciveRBReductor(\n",
    "   fom,\n",
    "   product=fom.h1_0_semi_product,\n",
    "   coercivity_estimator=ExpressionParameterFunctional('min(diffusion)', fom.parameters)\n",
    ")"
   ]
  },
  {
   "cell_type": "markdown",
   "id": "2a16adce",
   "metadata": {
    "slideshow": {
     "slide_type": "fragment"
    }
   },
   "source": [
    "and build a basis using a greedy search over the parameter space:"
   ]
  },
  {
   "cell_type": "code",
   "execution_count": null,
   "id": "5a9fd907",
   "metadata": {},
   "outputs": [],
   "source": [
    "training_set = p.parameter_space.sample_uniformly(4)\n",
    "print(training_set[0])"
   ]
  },
  {
   "cell_type": "code",
   "execution_count": null,
   "id": "8a712b40",
   "metadata": {},
   "outputs": [],
   "source": [
    "greedy_data = rb_greedy(fom, reductor, training_set, max_extensions=20)\n",
    "print(greedy_data.keys())\n",
    "rom = greedy_data['rom']"
   ]
  },
  {
   "cell_type": "markdown",
   "id": "5976eeb9",
   "metadata": {
    "slideshow": {
     "slide_type": "subslide"
    }
   },
   "source": [
    "### Testing the ROM\n",
    "\n",
    "Let's compute the error again:"
   ]
  },
  {
   "cell_type": "code",
   "execution_count": null,
   "id": "6c802252",
   "metadata": {},
   "outputs": [],
   "source": [
    "mu = p.parameter_space.sample_randomly()\n",
    "U = fom.solve(mu)\n",
    "u_rom = rom.solve(mu)\n",
    "ERR = U - reductor.reconstruct(u_rom)\n",
    "ERR.norm(fom.h1_0_semi_product)"
   ]
  },
  {
   "cell_type": "markdown",
   "id": "2f0ed708",
   "metadata": {
    "slideshow": {
     "slide_type": "fragment"
    }
   },
   "source": [
    "and compare it with the estimated error:"
   ]
  },
  {
   "cell_type": "code",
   "execution_count": null,
   "id": "17613968",
   "metadata": {},
   "outputs": [],
   "source": [
    "rom.estimate_error(mu)"
   ]
  },
  {
   "cell_type": "markdown",
   "id": "cc8de7f4",
   "metadata": {
    "slideshow": {
     "slide_type": "subslide"
    }
   },
   "source": [
    "### Is it faster?\n",
    "\n",
    "Finally, we compute some timings:"
   ]
  },
  {
   "cell_type": "code",
   "execution_count": null,
   "id": "c3672505",
   "metadata": {},
   "outputs": [],
   "source": [
    "from time import perf_counter\n",
    "mus = p.parameter_space.sample_randomly(10)\n",
    "tic = perf_counter()\n",
    "for mu in mus:\n",
    "    fom.solve(mu)\n",
    "t_fom = perf_counter() - tic\n",
    "tic = perf_counter()\n",
    "for mu in mus:\n",
    "    rom.solve(mu)\n",
    "t_rom = perf_counter() - tic\n",
    "print(f'Speedup: {t_fom/t_rom}')"
   ]
  },
  {
   "cell_type": "markdown",
   "id": "bca12676",
   "metadata": {
    "slideshow": {
     "slide_type": "subslide"
    }
   },
   "source": [
    "### Some things to try\n",
    "\n",
    "- Plot the MOR error vs. the dimension of the reduced space.\n",
    " \n",
    "- Plot the speedup vs. the dimension of the reduced space.\n",
    "\n",
    "- Compute the maximum/minimum efficiency of the error estimator over the parameter space.\n",
    "\n",
    "- Try different numbers of subdomains."
   ]
  }
 ],
 "metadata": {
  "jupytext": {
   "formats": "ipynb,md:myst"
  },
  "kernelspec": {
   "display_name": "Python 3 (ipykernel)",
   "language": "python",
   "name": "python3"
  },
  "language_info": {
   "codemirror_mode": {
    "name": "ipython",
    "version": 3
   },
   "file_extension": ".py",
   "mimetype": "text/x-python",
   "name": "python",
   "nbconvert_exporter": "python",
   "pygments_lexer": "ipython3",
   "version": "3.9.2"
  }
 },
 "nbformat": 4,
 "nbformat_minor": 5
}
