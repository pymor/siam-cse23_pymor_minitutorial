{
 "cells": [
  {
   "cell_type": "markdown",
   "id": "5c15ceaa",
   "metadata": {
    "slideshow": {
     "slide_type": "slide"
    }
   },
   "source": [
    "# System-Theoretic Methods with pyMOR"
   ]
  },
  {
   "cell_type": "markdown",
   "id": "12fb05ca",
   "metadata": {
    "slideshow": {
     "slide_type": "fragment"
    }
   },
   "source": [
    "## Linear Time-Invariant (LTI) Systems\n",
    "\n",
    "$$\n",
    "\\newcommand{\\imag}{\\boldsymbol{\\imath}}\n",
    "\\newcommand{\\tran}{^{\\operatorname{T}}}\n",
    "\\newcommand{\\mtran}{^{-\\!\\operatorname{T}}}\n",
    "\\begin{align*}\n",
    "  E \\dot{x}(t) & = A x(t) + B u(t), \\quad x(0) = 0, \\\\\n",
    "  y(t) & = C x(t) + D u(t),\n",
    "\\end{align*}\n",
    "$$\n",
    "\n",
    "- $u(t) \\in \\mathbb{R}^m$ is the input,\n",
    "- $x(t) \\in \\mathbb{R}^n$ is the state,\n",
    "- $y(t) \\in \\mathbb{R}^p$ is the output,\n",
    "- $E, A \\in \\mathbb{R}^{n \\times n}$,\n",
    "- $B \\in \\mathbb{R}^{n \\times m}$,\n",
    "- $C \\in \\mathbb{R}^{p \\times n}$,\n",
    "- $D \\in \\mathbb{R}^{p \\times m}$.\n",
    "\n",
    "We'll assume that:\n",
    "\n",
    "- $D = 0$,\n",
    "- $E$ is invertible,\n",
    "- $E^{-1} A$ is Hurwitz (all the eigenvalues have negative real parts)."
   ]
  },
  {
   "cell_type": "markdown",
   "id": "4b76718d-d054-4a71-8ad7-38bfba578ee0",
   "metadata": {},
   "source": [
    "## Example (Mass-Spring-Damper Chain)\n",
    "\n",
    "Equations:\n",
    "$$\n",
    "\\begin{align*}\n",
    "  m \\ddot{q}_1(t)\n",
    "  + d (2 \\dot{q}_1(t) - \\dot{q}_2(t))\n",
    "  + k (2 q_1(t) - q_{2}(t))\n",
    "  & = u(t), \\\\\n",
    "  m \\ddot{q}_i(t)\n",
    "  + d (2 \\dot{q}_i(t) - \\dot{q}_{i - 1}(t) - \\dot{q}_{i + 1}(t))\n",
    "  + k (2 q_i(t) - q_{i - 1}(t) - q_{i + 1}(t))\n",
    "  & = 0,\n",
    "  & i = 2, \\ldots, n - 1, \\\\\n",
    "  m \\ddot{q}_n(t)\n",
    "  + d (2 \\dot{q}_n(t) - \\dot{q}_{n - 1}(t))\n",
    "  + k (2 q_n(t) - q_{n - 1}(t))\n",
    "  & = 0, \\\\\n",
    "  y(t) & = q_n(t)\n",
    "\\end{align*}\n",
    "$$\n",
    "\n",
    "Matrix form:\n",
    "$$\n",
    "\\begin{align*}\n",
    "  M_{so} \\ddot{q}(t)\n",
    "  + D_{so} \\dot{q}(t)\n",
    "  + K_{so} q(t)\n",
    "  & = B_{so} u(t), \\\\\n",
    "  y(t)\n",
    "  & = C_{so} q(t)\n",
    "\\end{align*}\n",
    "$$\n",
    "where\n",
    "$$\n",
    "M_{so} = m I, \\quad\n",
    "D_{so} = d L, \\quad\n",
    "K_{so} = k L, \\quad\n",
    "L =\n",
    "\\begin{bmatrix}\n",
    "  2 & -1 \\\\\n",
    "  -1 & 2 & -1 \\\\\n",
    "  & -1 & \\ddots & \\ddots \\\\\n",
    "  & & \\ddots & \\ddots & -1 \\\\\n",
    "  & & & -1 & 2\n",
    "\\end{bmatrix}, \\quad\n",
    "B_{so} = e_1, \\quad\n",
    "C_{so} = e_n^T.\n",
    "$$\n",
    "\n",
    "In first-order form:\n",
    "$$\n",
    "x(t) =\n",
    "\\begin{bmatrix}\n",
    "  q(t) \\\\\n",
    "  \\dot{q}(t)\n",
    "\\end{bmatrix}, \\quad\n",
    "E =\n",
    "\\begin{bmatrix}\n",
    "  I & 0 \\\\\n",
    "  0 & M_{so}\n",
    "\\end{bmatrix}, \\quad\n",
    "A =\n",
    "\\begin{bmatrix}\n",
    "  0 & I \\\\\n",
    "  -K_{so} & -D_{so}\n",
    "\\end{bmatrix}, \\quad\n",
    "B =\n",
    "\\begin{bmatrix}\n",
    "  0 \\\\\n",
    "  B_{so}\n",
    "\\end{bmatrix}, \\quad\n",
    "C =\n",
    "\\begin{bmatrix}\n",
    "  C_{so} & 0\n",
    "\\end{bmatrix}, \\quad\n",
    "$$"
   ]
  },
  {
   "cell_type": "markdown",
   "id": "884c5186-e28b-4b2c-85a6-9e9e586bc005",
   "metadata": {},
   "source": [
    "## Building a Full-Order Model"
   ]
  },
  {
   "cell_type": "markdown",
   "id": "ecfe81a2-4173-4a8b-a7e5-9033216e2197",
   "metadata": {},
   "source": [
    "### Matrices"
   ]
  },
  {
   "cell_type": "code",
   "execution_count": null,
   "id": "82e73c59-0d95-43a9-9363-a04f0a3f91d2",
   "metadata": {
    "tags": []
   },
   "outputs": [],
   "source": [
    "import numpy as np\n",
    "import scipy.sparse as sps"
   ]
  },
  {
   "cell_type": "code",
   "execution_count": null,
   "id": "80fb523b-2a28-4019-9508-0e016afbefd7",
   "metadata": {
    "tags": []
   },
   "outputs": [],
   "source": [
    "n = 1000\n",
    "m = 1\n",
    "d = 10\n",
    "k = 1\n",
    "Mso = m * sps.eye(n, format='csc')\n",
    "L = sps.diags([(n-1)*[-1], n*[2], (n-1)*[-1]], [-1, 0, 1], format='csc')\n",
    "Dso = d * L\n",
    "Kso = k * L\n",
    "Bso = np.zeros((n, 1))\n",
    "Bso[0, 0] = 1\n",
    "Cso = np.zeros((1, n))\n",
    "Cso[0, -1] = 1"
   ]
  },
  {
   "cell_type": "code",
   "execution_count": null,
   "id": "eb393a47-a11f-4211-b57e-817b626205b6",
   "metadata": {
    "tags": []
   },
   "outputs": [],
   "source": [
    "E = sps.block_diag([sps.eye(n), Mso], format='csc')\n",
    "A = sps.bmat([[None, sps.eye(n)], [-Kso, -Dso]], format='csc')\n",
    "B = np.vstack([np.zeros((n, 1)), Bso])\n",
    "C = np.hstack([Cso, np.zeros((1, n))])"
   ]
  },
  {
   "cell_type": "markdown",
   "id": "f848111d-bbd4-4452-867c-bf510f147937",
   "metadata": {},
   "source": [
    "### `LTIModel`"
   ]
  },
  {
   "cell_type": "code",
   "execution_count": null,
   "id": "40c400a3",
   "metadata": {
    "slideshow": {
     "slide_type": "subslide"
    },
    "tags": []
   },
   "outputs": [],
   "source": [
    "from pymor.models.iosys import LTIModel"
   ]
  },
  {
   "cell_type": "code",
   "execution_count": null,
   "id": "996b254b-dc3a-46dc-aac2-11129d23a562",
   "metadata": {
    "scrolled": true,
    "tags": []
   },
   "outputs": [],
   "source": [
    "LTIModel?"
   ]
  },
  {
   "cell_type": "code",
   "execution_count": null,
   "id": "2f4e2cbd",
   "metadata": {
    "slideshow": {
     "slide_type": "fragment"
    },
    "tags": []
   },
   "outputs": [],
   "source": [
    "fom = LTIModel.from_matrices(A, B, C, E=E)"
   ]
  },
  {
   "cell_type": "code",
   "execution_count": null,
   "id": "8e83b768-d422-4e33-aa6d-3050d3d02d09",
   "metadata": {
    "tags": []
   },
   "outputs": [],
   "source": [
    "fom"
   ]
  },
  {
   "cell_type": "code",
   "execution_count": null,
   "id": "190065e5",
   "metadata": {
    "slideshow": {
     "slide_type": "fragment"
    },
    "tags": []
   },
   "outputs": [],
   "source": [
    "print(fom)"
   ]
  },
  {
   "cell_type": "markdown",
   "id": "bafc75e1",
   "metadata": {
    "slideshow": {
     "slide_type": "subslide"
    }
   },
   "source": [
    "## Full-Order Model Analysis"
   ]
  },
  {
   "cell_type": "code",
   "execution_count": null,
   "id": "84ddc750-58c9-40f1-ab47-3f32958ca17a",
   "metadata": {
    "tags": []
   },
   "outputs": [],
   "source": [
    "import matplotlib.pyplot as plt\n",
    "plt.rcParams['axes.grid'] = True"
   ]
  },
  {
   "cell_type": "code",
   "execution_count": null,
   "id": "c77df67a-8620-4d2f-bf4e-081a1054d978",
   "metadata": {
    "tags": []
   },
   "outputs": [],
   "source": [
    "from pymor.core.logger import set_log_levels\n",
    "set_log_levels({'pymor.algorithms.gram_schmidt.gram_schmidt': 'ERROR'})"
   ]
  },
  {
   "cell_type": "markdown",
   "id": "79011764-62ef-45d4-bdc9-04f674c152a0",
   "metadata": {},
   "source": [
    "### Impulse Response\n",
    "\n",
    "The general solution is\n",
    "$$\n",
    "x(t) = \\int_0^t e^{\\tau E^{-1} A} E^{-1} B u(t - \\tau) \\, \\mathrm{d}\\tau.\n",
    "$$\n",
    "Therefore, the output is\n",
    "$$\n",
    "y(t) = \\int_0^t C e^{\\tau E^{-1} A} E^{-1} B u(t - \\tau) \\, \\mathrm{d}\\tau.\n",
    "$$\n",
    "I.e.,\n",
    "$$y = h * u$$\n",
    "where\n",
    "$$\n",
    "h(t) =\n",
    "\\begin{cases}\n",
    "  C e^{\\tau E^{-1} A} E^{-1} B, & t \\ge 0, \\\\\n",
    "  0, & t < 0.\n",
    "\\end{cases}\n",
    "$$\n",
    "The function $h$ is called the *impulse response*."
   ]
  },
  {
   "cell_type": "code",
   "execution_count": null,
   "id": "f573c0bd-d5fc-496d-8292-912e09378bf7",
   "metadata": {
    "tags": []
   },
   "outputs": [],
   "source": [
    "from pymor.algorithms.timestepping import ImplicitEulerTimeStepper"
   ]
  },
  {
   "cell_type": "code",
   "execution_count": null,
   "id": "7da19cd1-b1ae-4089-96f9-7a84ff55b863",
   "metadata": {
    "tags": []
   },
   "outputs": [],
   "source": [
    "fom2 = fom.with_(T=6000, time_stepper=ImplicitEulerTimeStepper(6000))"
   ]
  },
  {
   "cell_type": "code",
   "execution_count": null,
   "id": "99688cef-41d9-4e5c-9a61-2ec867553430",
   "metadata": {
    "tags": []
   },
   "outputs": [],
   "source": [
    "h = fom2.impulse_resp()"
   ]
  },
  {
   "cell_type": "code",
   "execution_count": null,
   "id": "56937b97-9010-49a2-8865-d260c82ac910",
   "metadata": {
    "tags": []
   },
   "outputs": [],
   "source": [
    "h.shape"
   ]
  },
  {
   "cell_type": "code",
   "execution_count": null,
   "id": "7995d116-7fd8-495c-b7e1-85cdabc3d806",
   "metadata": {
    "tags": []
   },
   "outputs": [],
   "source": [
    "fig, ax = plt.subplots()\n",
    "_ = ax.plot(np.linspace(0, fom2.T, fom2.time_stepper.nt + 1), h[:, 0, 0])\n",
    "_ = ax.set(\n",
    "    xlabel='Time $t$ (s)',\n",
    "    ylabel='$h(t)$',\n",
    "    title='Impulse response',\n",
    ")"
   ]
  },
  {
   "cell_type": "markdown",
   "id": "3e8b2a8c-ddcf-457b-9a99-047f4f7c9af3",
   "metadata": {
    "slideshow": {
     "slide_type": "subslide"
    }
   },
   "source": [
    "### Transfer Function\n",
    "\n",
    "Applying the Laplace transform to $y = h * u$ gives\n",
    "$$Y = H U$$\n",
    "where $U, Y, H$ are respectively the Laplace transforms of $u, y, h$.\n",
    "\n",
    "In particular,\n",
    "$$\n",
    "H(s) = C (s E - A)^{-1} B.\n",
    "$$\n",
    "The function $H$ is called the *transfer function*."
   ]
  },
  {
   "cell_type": "markdown",
   "id": "2f55c96e-eb08-4580-b23a-e60e297a6421",
   "metadata": {
    "slideshow": {
     "slide_type": "subslide"
    }
   },
   "source": [
    "### Bode Plot\n",
    "\n",
    "It can be checked that for $u(t) = \\sin(\\omega t + \\varphi) e_j$\n",
    "(where $e_j \\in \\mathbb{R}^m$ is the $j$th canonical vector),\n",
    "we have that\n",
    "$$\n",
    "y_i(t)\n",
    "\\sim\n",
    "\\lvert H_{ij}(\\imag \\omega) \\rvert\n",
    "\\sin\\bigl(\\omega t + \\varphi + \\arg(H_{ij}(\\imag \\omega))\\bigr)\n",
    "$$\n",
    "as $t \\to \\infty$.\n",
    "\n",
    "The Bode plot shows\n",
    "the magnitudes $\\omega \\mapsto \\lvert H_{ij}(\\imag \\omega) \\rvert$ and\n",
    "phases $\\omega \\mapsto \\arg(H_{ij}(\\imag \\omega))$."
   ]
  },
  {
   "cell_type": "code",
   "execution_count": null,
   "id": "2b3b3ccb",
   "metadata": {
    "tags": []
   },
   "outputs": [],
   "source": [
    "w = (5e-4, 5e-2)\n",
    "_ = fom.transfer_function.bode_plot(w)"
   ]
  },
  {
   "cell_type": "markdown",
   "id": "bea7a223",
   "metadata": {
    "slideshow": {
     "slide_type": "subslide"
    }
   },
   "source": [
    "### Hankel Singular Values\n",
    "\n",
    "The *Hankel operator* $\\mathcal{H} \\colon L_2((-\\infty, 0]) \\to L_2([0, \\infty))$,\n",
    "given by\n",
    "$$\n",
    "\\mathcal{H}(u)(t) = \\int_{-\\infty}^0 h(t - \\tau) u(t) \\, \\mathrm{d}\\tau,\n",
    "$$\n",
    "is of finite rank.\n",
    "It has at most $n$ positive singular values\n",
    "$$\\sigma_1 \\ge \\sigma_2 \\ge \\ldots \\ge \\sigma_n \\ge 0.$$\n",
    "The system is *minimal* iff $\\sigma_n > 0$.\n",
    "\n",
    "It turns out that $\\sigma_1^2, \\sigma_2^2, \\ldots, \\sigma_n^2$ are the eigenvalues of $E^{\\operatorname{T}} Q E P$,\n",
    "where\n",
    "$$\n",
    "\\begin{align*}\n",
    "  P\n",
    "  & =\n",
    "  \\int_0^\\infty\n",
    "  e^{\\tau E^{-1} A} E^{-1} B\n",
    "  B\\tran E\\mtran e^{\\tau A\\tran E\\mtran}\n",
    "  \\, \\mathrm{d}\\tau, \\\\\n",
    "  E^{\\operatorname{T}} Q E\n",
    "  & =\n",
    "  \\int_0^\\infty\n",
    "  e^{\\tau A\\tran E\\mtran} C\n",
    "  C\\tran e^{\\tau E^{-1} A}\n",
    "  \\, \\mathrm{d}\\tau.\n",
    "\\end{align*}\n",
    "$$\n",
    "The matrix $P$ is called the *controllability Gramian*.\n",
    "The matrix $E^{\\operatorname{T}} Q E$ is called the *observability Gramian*.\n",
    "\n",
    "The matrices $P$ and $Q$ are solutions to Lyapunov equations\n",
    "$$\n",
    "\\begin{align*}\n",
    "  A P E\\tran\n",
    "  + E P A\\tran\n",
    "  + B B\\tran\n",
    "  & = 0, \\\\\n",
    "  A\\tran Q E\n",
    "  + E\\tran Q A\n",
    "  + C\\tran C\n",
    "  & = 0,\n",
    "\\end{align*}\n",
    "$$"
   ]
  },
  {
   "cell_type": "code",
   "execution_count": null,
   "id": "748aa654-ad0b-4571-862c-a7bf6936089b",
   "metadata": {
    "scrolled": true,
    "tags": []
   },
   "outputs": [],
   "source": [
    "hsv = fom.hsv()"
   ]
  },
  {
   "cell_type": "code",
   "execution_count": null,
   "id": "2d34f298-a9dc-4c14-9f0c-d2fde62693f9",
   "metadata": {
    "tags": []
   },
   "outputs": [],
   "source": [
    "fig, ax = plt.subplots()\n",
    "_ = ax.semilogy(range(1, len(hsv) + 1), hsv, '.-')\n",
    "_ = ax.set(\n",
    "    xlabel='Index $i$',\n",
    "    ylabel=r'$\\sigma_i$',\n",
    "    title='Approximate Hankel singular values'\n",
    ")"
   ]
  },
  {
   "cell_type": "markdown",
   "id": "9de1b782",
   "metadata": {
    "slideshow": {
     "slide_type": "subslide"
    }
   },
   "source": [
    "## Balanced Truncation\n",
    "\n",
    "Balanced truncation constructs matrices $V, W \\in \\mathbb{R}^{n \\times r}$\n",
    "and the reduced-order model\n",
    "$$\n",
    "\\begin{align*}\n",
    "  \\hat{E} \\dot{\\hat{x}}(t) & = \\hat{A} \\hat{x}(t) + \\hat{B} u(t), \\quad \\hat{x}(0) = 0, \\\\\n",
    "  \\hat{y}(t) & = \\hat{C} \\hat{x}(t),\n",
    "\\end{align*}\n",
    "$$\n",
    "by Petrov-Galerkin projection\n",
    "$$\n",
    "\\begin{align*}\n",
    "  \\hat{E} = W\\tran E V,\\\n",
    "  \\hat{A} = W\\tran A V,\\\n",
    "  \\hat{B} = W\\tran B,\\\n",
    "  \\hat{C} = C V,\n",
    "\\end{align*}\n",
    "$$\n",
    "Note that\n",
    "- $u$ is the same input as in the full-order model,\n",
    "- $\\hat{x}(t) \\in \\mathbb{R}^r$ is the reduced state,\n",
    "- $\\hat{y}(t) \\in \\mathbb{R}^p$ is the approximate output,\n",
    "- $\\hat{E}, \\hat{A} \\in \\mathbb{R}^{r \\times r}$,\n",
    "- $\\hat{B} \\in \\mathbb{R}^{r \\times m}$,\n",
    "- $\\hat{C} \\in \\mathbb{R}^{p \\times r}$."
   ]
  },
  {
   "cell_type": "code",
   "execution_count": null,
   "id": "8b902682-6f45-423e-b785-c417b2abf7a4",
   "metadata": {
    "tags": []
   },
   "outputs": [],
   "source": [
    "from pymor.reductors.bt import BTReductor"
   ]
  },
  {
   "cell_type": "code",
   "execution_count": null,
   "id": "2f5f9a17-47ac-40e4-8e32-e57ecdd56b84",
   "metadata": {
    "tags": []
   },
   "outputs": [],
   "source": [
    "BTReductor?"
   ]
  },
  {
   "cell_type": "code",
   "execution_count": null,
   "id": "cb20533e",
   "metadata": {
    "slideshow": {
     "slide_type": "fragment"
    },
    "tags": []
   },
   "outputs": [],
   "source": [
    "bt = BTReductor(fom)"
   ]
  },
  {
   "cell_type": "code",
   "execution_count": null,
   "id": "c7cdd715-9f43-49ef-b1eb-8cf4ce77ce6f",
   "metadata": {
    "tags": []
   },
   "outputs": [],
   "source": [
    "bt.reduce?"
   ]
  },
  {
   "cell_type": "code",
   "execution_count": null,
   "id": "511c9a64",
   "metadata": {
    "scrolled": true,
    "slideshow": {
     "slide_type": "fragment"
    },
    "tags": []
   },
   "outputs": [],
   "source": [
    "r = 14\n",
    "rom_bt = bt.reduce(r)"
   ]
  },
  {
   "cell_type": "markdown",
   "id": "a742ac99-5bda-4fa5-8d34-fd2fec7bd72d",
   "metadata": {},
   "source": [
    "The reduced-order model is again an `LTIModel`."
   ]
  },
  {
   "cell_type": "code",
   "execution_count": null,
   "id": "6438eaec",
   "metadata": {
    "slideshow": {
     "slide_type": "subslide"
    },
    "tags": []
   },
   "outputs": [],
   "source": [
    "rom_bt"
   ]
  },
  {
   "cell_type": "code",
   "execution_count": null,
   "id": "03660831",
   "metadata": {
    "slideshow": {
     "slide_type": "fragment"
    },
    "tags": []
   },
   "outputs": [],
   "source": [
    "print(rom_bt)"
   ]
  },
  {
   "cell_type": "markdown",
   "id": "ce4f8fc5",
   "metadata": {
    "slideshow": {
     "slide_type": "subslide"
    }
   },
   "source": [
    "### Poles\n",
    "\n",
    "The system poles are the poles of the tranfer function $H(s) = C (s E - A)^{-1} B$.\n",
    "Assuming there are no zero-pole cancellations (true when the system is minimal),\n",
    "the poles are the eigenvalues of $E^{-1} A$.\n",
    "\n",
    "The transfer function of the reduced-order model is\n",
    "$\\hat{H}(s) = \\hat{C} (s \\hat{E} - \\hat{A})^{-1} \\hat{B}$."
   ]
  },
  {
   "cell_type": "code",
   "execution_count": null,
   "id": "7ce4445f-c7e2-42ba-98f4-497a76ae2663",
   "metadata": {
    "tags": []
   },
   "outputs": [],
   "source": [
    "poles_rom_bt = rom_bt.poles()"
   ]
  },
  {
   "cell_type": "code",
   "execution_count": null,
   "id": "139fe532-7794-4b4c-bc12-9ec1f7bb89fe",
   "metadata": {
    "tags": []
   },
   "outputs": [],
   "source": [
    "fig, ax = plt.subplots()\n",
    "_ = ax.plot(poles_rom_bt.real, poles_rom_bt.imag, 'x')\n",
    "_ = ax.set(\n",
    "    xlabel='Real',\n",
    "    ylabel='Imag',\n",
    "    title='Poles of the BT ROM',\n",
    ")"
   ]
  },
  {
   "cell_type": "markdown",
   "id": "373ccce3-c0fd-4d3d-933e-613e127a949a",
   "metadata": {},
   "source": [
    "### Impulse Response"
   ]
  },
  {
   "cell_type": "code",
   "execution_count": null,
   "id": "e4bb3e68-9e71-44b7-be6d-886969e74b7c",
   "metadata": {
    "tags": []
   },
   "outputs": [],
   "source": [
    "rom_bt2 = rom_bt.with_(T=6000, time_stepper=ImplicitEulerTimeStepper(6000))"
   ]
  },
  {
   "cell_type": "code",
   "execution_count": null,
   "id": "1612cafe-5b68-45d3-848b-d1d8478f2c08",
   "metadata": {
    "tags": []
   },
   "outputs": [],
   "source": [
    "h_bt = rom_bt2.impulse_resp()"
   ]
  },
  {
   "cell_type": "code",
   "execution_count": null,
   "id": "b88adc81-b02f-42fa-bca2-81c2c85a8356",
   "metadata": {
    "tags": []
   },
   "outputs": [],
   "source": [
    "h_bt.shape"
   ]
  },
  {
   "cell_type": "code",
   "execution_count": null,
   "id": "ccf49cd5-bc0c-43c8-911d-4feb2255f6dd",
   "metadata": {
    "tags": []
   },
   "outputs": [],
   "source": [
    "fig, ax = plt.subplots()\n",
    "_ = ax.plot(np.linspace(0, fom2.T, fom2.time_stepper.nt + 1), h[:, 0, 0], label='FOM')\n",
    "_ = ax.plot(np.linspace(0, rom_bt2.T, rom_bt2.time_stepper.nt + 1), h_bt[:, 0, 0], '--', label='BT ROM')\n",
    "_ = ax.set(\n",
    "    xlabel='Time $t$ (s)',\n",
    "    ylabel='$h(t)$',\n",
    "    title='Impulse response',\n",
    ")\n",
    "_ = ax.legend()"
   ]
  },
  {
   "cell_type": "markdown",
   "id": "cc07fefc-7539-4a92-976b-6767d8e1abee",
   "metadata": {
    "slideshow": {
     "slide_type": "subslide"
    }
   },
   "source": [
    "### Bode Plot"
   ]
  },
  {
   "cell_type": "code",
   "execution_count": null,
   "id": "5386f00c",
   "metadata": {
    "tags": []
   },
   "outputs": [],
   "source": [
    "fig, ax = plt.subplots(2, 1, squeeze=False, figsize=(6, 8), tight_layout=True)\n",
    "_ = fom.transfer_function.bode_plot(w, ax=ax, label='FOM')\n",
    "_ = rom_bt.transfer_function.bode_plot(w, ax=ax, linestyle='--', label='BT ROM')\n",
    "_ = ax[0, 0].legend()\n",
    "_ = ax[1, 0].legend()"
   ]
  },
  {
   "cell_type": "markdown",
   "id": "385b4e29",
   "metadata": {
    "slideshow": {
     "slide_type": "subslide"
    }
   },
   "source": [
    "### Hankel Singular Values\n",
    "\n",
    "Balanced truncation preserves the top $r$ Hankel singular values."
   ]
  },
  {
   "cell_type": "code",
   "execution_count": null,
   "id": "b518d2f2-c4ab-46a1-874a-61118cab0d11",
   "metadata": {
    "scrolled": true,
    "tags": []
   },
   "outputs": [],
   "source": [
    "hsv_bt = rom_bt.hsv()"
   ]
  },
  {
   "cell_type": "code",
   "execution_count": null,
   "id": "9b75626e-1b8d-4708-97d2-65cfa13b62aa",
   "metadata": {
    "tags": []
   },
   "outputs": [],
   "source": [
    "fig, ax = plt.subplots()\n",
    "_ = ax.semilogy(range(1, len(hsv) + 1), hsv, '.-')\n",
    "_ = ax.semilogy(range(1, len(hsv_bt) + 1), hsv_bt, '.-')\n",
    "_ = ax.set(\n",
    "    xlabel='Index $i$',\n",
    "    ylabel=r'$\\sigma_i$',\n",
    "    title='Approximate Hankel singular values'\n",
    ")"
   ]
  },
  {
   "cell_type": "markdown",
   "id": "97db801d",
   "metadata": {
    "slideshow": {
     "slide_type": "subslide"
    }
   },
   "source": [
    "### Error Magnitude Plot\n",
    "\n",
    "The error system transfer function\n",
    "$$H_{\\text{err}} = H - \\hat{H}$$\n",
    "has a state-space realization\n",
    "$$\n",
    "\\begin{align*}\n",
    "  \\begin{bmatrix}\n",
    "    E & 0 \\\\\n",
    "    0 & \\hat{E}\n",
    "  \\end{bmatrix}\n",
    "  \\begin{bmatrix}\n",
    "    \\dot{x}(t) \\\\\n",
    "    \\dot{\\hat{x}}(t)\n",
    "  \\end{bmatrix}\n",
    "  & =\n",
    "  \\begin{bmatrix}\n",
    "    A & 0 \\\\\n",
    "    0 & \\hat{A}\n",
    "  \\end{bmatrix}\n",
    "  \\begin{bmatrix}\n",
    "    x(t) \\\\\n",
    "    \\hat{x}(t)\n",
    "  \\end{bmatrix}\n",
    "  +\n",
    "  \\begin{bmatrix}\n",
    "    B \\\\\n",
    "    \\hat{B}\n",
    "  \\end{bmatrix}\n",
    "  u(t), \\\\\n",
    "  y(t) - \\hat{y}(t)\n",
    "  & =\n",
    "  \\begin{bmatrix}\n",
    "    C & -\\hat{C}\n",
    "  \\end{bmatrix}\n",
    "  \\begin{bmatrix}\n",
    "    x(t) \\\\\n",
    "    \\hat{x}(t)\n",
    "  \\end{bmatrix}.\n",
    "\\end{align*}\n",
    "$$"
   ]
  },
  {
   "cell_type": "code",
   "execution_count": null,
   "id": "71692282-2977-43d1-8048-ba3691fbc0b4",
   "metadata": {
    "tags": []
   },
   "outputs": [],
   "source": [
    "err_bt = fom - rom_bt"
   ]
  },
  {
   "cell_type": "markdown",
   "id": "9ad495f0-db58-4c5f-8388-2c2677d81097",
   "metadata": {},
   "source": [
    "The magnitude plot only shows the mapping $\\omega \\mapsto \\lVert H(\\imag \\omega) \\rVert$."
   ]
  },
  {
   "cell_type": "code",
   "execution_count": null,
   "id": "8775e582-9860-476a-ac4f-2fa3b7301a9e",
   "metadata": {
    "tags": []
   },
   "outputs": [],
   "source": [
    "fig, ax = plt.subplots()\n",
    "_ = err_bt.transfer_function.mag_plot(w, ax=ax)\n",
    "_ = ax.set_title('Error magnitude plot')"
   ]
  },
  {
   "cell_type": "markdown",
   "id": "55d58793",
   "metadata": {
    "slideshow": {
     "slide_type": "fragment"
    }
   },
   "source": [
    "### Relative $\\mathcal{H}_2$ Error\n",
    "\n",
    "One norm over the space of transfer functions is the $\\mathcal{H}_2$ norm:\n",
    "$$\n",
    "\\lVert H \\rVert_{\\mathcal{H}_2}\n",
    "=\n",
    "\\left(\n",
    "\\frac{1}{2 \\pi}\n",
    "\\int_{-\\infty}^{\\infty}\n",
    "\\lVert H(\\imag \\omega) \\rVert_{\\operatorname{F}}^2\n",
    "\\,\\mathrm{d}\\omega\n",
    "\\right)^{1/2}\n",
    "$$\n",
    "It provides an time-domain output error bound\n",
    "$$\n",
    "\\lVert y - \\hat{y} \\rVert_{L_{\\infty}}\n",
    "\\le\n",
    "\\lVert H - \\hat{H} \\rVert_{\\mathcal{H}_2}\n",
    "\\lVert u \\rVert_{L_2}.\n",
    "$$\n",
    "The relative $\\mathcal{H}_2$ error\n",
    "$$\n",
    "\\frac{\\lVert H - \\hat{H} \\rVert_{\\mathcal{H}_2}}{\\lVert H \\rVert_{\\mathcal{H}_2}}\n",
    "$$\n",
    "is then a good measure of reduced-order model accuracy."
   ]
  },
  {
   "cell_type": "code",
   "execution_count": null,
   "id": "42b9d109",
   "metadata": {
    "scrolled": true,
    "tags": []
   },
   "outputs": [],
   "source": [
    "print(err_bt.h2_norm() / fom.h2_norm())"
   ]
  },
  {
   "cell_type": "markdown",
   "id": "eddc0804-902d-4f35-8367-c09fd9e13144",
   "metadata": {},
   "source": [
    "### $\\mathcal{H}_\\infty$ Error Bounds\n",
    "\n",
    "The $\\mathcal{H}_\\infty$ norm of a transfer function $H$ is\n",
    "$$\n",
    "\\lVert H \\rVert_{\\mathcal{H}_\\infty}\n",
    "= \\sup_{\\omega \\in \\mathbb{R}} \\lVert H(\\imag \\omega) \\rVert_2.\n",
    "$$\n",
    "It also provides an time-domain output error bound\n",
    "$$\n",
    "\\lVert y - \\hat{y} \\rVert_{L_2}\n",
    "\\le\n",
    "\\lVert H - \\hat{H} \\rVert_{\\mathcal{H}_{\\infty}}\n",
    "\\lVert u \\rVert_{L_2}.\n",
    "$$\n",
    "Note the difference compared to the $\\mathcal{H}_2$ norm.\n",
    "\n",
    "Generally, for any transfer function $\\hat{H}$ of a system of order $r$,\n",
    "we have the lower bound for the $\\mathcal{H}_\\infty$ error:\n",
    "$$\n",
    "\\lVert H - \\hat{H} \\rVert_{\\mathcal{H}_\\infty}\n",
    "\\ge \\sigma_{r + 1}.\n",
    "$$\n",
    "For reduced-order models obtained by balanced truncation,\n",
    "we also have the upper bound\n",
    "$$\n",
    "\\lVert H - \\hat{H} \\rVert_{\\mathcal{H}_\\infty}\n",
    "\\le 2 \\sum_{i = r + 1}^n \\sigma_i.\n",
    "$$"
   ]
  },
  {
   "cell_type": "code",
   "execution_count": null,
   "id": "42de4e0b-d294-4490-abc1-2fb823eeb69c",
   "metadata": {
    "scrolled": true,
    "tags": []
   },
   "outputs": [],
   "source": [
    "error_bounds = bt.error_bounds()"
   ]
  },
  {
   "cell_type": "code",
   "execution_count": null,
   "id": "7e1cf897-58ea-4fdc-9321-5764019eb579",
   "metadata": {
    "tags": []
   },
   "outputs": [],
   "source": [
    "len(error_bounds)"
   ]
  },
  {
   "cell_type": "code",
   "execution_count": null,
   "id": "01dac2b4-c50b-4b12-8707-01da02842764",
   "metadata": {
    "tags": []
   },
   "outputs": [],
   "source": [
    "fig, ax = plt.subplots()\n",
    "_ = ax.semilogy(range(1, len(error_bounds) + 1), hsv[1:len(error_bounds)+1], '.-')\n",
    "_ = ax.semilogy(range(1, len(error_bounds) + 1), error_bounds, '.-')\n",
    "_ = ax.set(\n",
    "    xlabel='Reduced order',\n",
    "    title=r'Approximate lower and upper bounds for the $\\mathcal{H}_\\infty$ error',\n",
    ")"
   ]
  },
  {
   "cell_type": "markdown",
   "id": "0f78c6a7-c7b2-496c-9893-a02ee1755533",
   "metadata": {},
   "source": [
    "## Exercise 1: Iterative Rational Krylov Algorithm (IRKA)\n",
    "\n",
    "IRKA is a method for locally $\\mathcal{H}_2$-optimal model order reduction.\n",
    "It is based on the necessary $\\mathcal{H}_2$-optimality conditions\n",
    "(stated here for SISO systems, i.e., when $m = p = 1$)\n",
    "$$\n",
    "\\begin{align*}\n",
    "  H\\!\\left(-\\overline{\\lambda_i}\\right)\n",
    "  & = \\hat{H}\\!\\left(-\\overline{\\lambda_i}\\right) \\\\\n",
    "  H'\\!\\left(-\\overline{\\lambda_i}\\right)\n",
    "  & = \\hat{H}'\\!\\left(-\\overline{\\lambda_i}\\right)\n",
    "\\end{align*}\n",
    "$$\n",
    "where $\\hat{H}(s) = \\sum_{i = 1}^r \\frac{\\varphi_i}{s - \\lambda_i}$\n",
    "is a locally $\\mathcal{H}_2$-optimal reduced-order transfer function of order $r$\n",
    "with pairwise distinct poles.\n",
    "\n",
    "The above interpolation can be achieved\n",
    "using Petrov-Galerkin projection\n",
    "via rational Krylov subspaces,\n",
    "but the interpolation points $\\lambda_i$ are not known in advance,\n",
    "which motivates a fixed-point iteration:\n",
    "\n",
    "1. Choose initial interpolation points $\\sigma_i$.\n",
    "2. Find $\\hat{H}$ that interpolates $H$ at $\\sigma_i$.\n",
    "3. Update $\\sigma_i$ as the mirrored poles of $\\hat{H}$.\n",
    "4. If $\\sigma_i$ changed significantly, go to step 2."
   ]
  },
  {
   "cell_type": "code",
   "execution_count": null,
   "id": "6aff5ce7-210b-46ec-aeaa-8763ac22010e",
   "metadata": {
    "tags": []
   },
   "outputs": [],
   "source": [
    "from pymor.reductors.h2 import IRKAReductor"
   ]
  },
  {
   "cell_type": "code",
   "execution_count": null,
   "id": "69861d70-0e63-423c-a201-1b6064c66ccf",
   "metadata": {
    "tags": []
   },
   "outputs": [],
   "source": [
    "IRKAReductor?"
   ]
  },
  {
   "cell_type": "markdown",
   "id": "061109cc-1c59-4851-a63b-c48812e1f433",
   "metadata": {},
   "source": [
    "Instatiate the IRKA reductor"
   ]
  },
  {
   "cell_type": "code",
   "execution_count": null,
   "id": "ee287e37-1ece-4935-bff1-798b7b896533",
   "metadata": {},
   "outputs": [],
   "source": [
    "irka = ..."
   ]
  },
  {
   "cell_type": "code",
   "execution_count": null,
   "id": "644a98e0-e420-4202-96b1-ef05dd411a6b",
   "metadata": {
    "scrolled": true,
    "tags": []
   },
   "outputs": [],
   "source": [
    "irka.reduce?"
   ]
  },
  {
   "cell_type": "markdown",
   "id": "57402739-c7d7-47f9-a917-a0d0151c4b9a",
   "metadata": {},
   "source": [
    "Use `irka` to find a reduced-order model with the following as the initial interpolation points."
   ]
  },
  {
   "cell_type": "code",
   "execution_count": null,
   "id": "107702be-b019-428b-961f-5d8a1f630798",
   "metadata": {
    "tags": []
   },
   "outputs": [],
   "source": [
    "sigma = np.logspace(-4, -2, r//2)\n",
    "sigma = np.hstack((1j * sigma, -1j * sigma))"
   ]
  },
  {
   "cell_type": "code",
   "execution_count": null,
   "id": "159ca421-43ed-49fb-be64-9acbcae40be6",
   "metadata": {
    "scrolled": true,
    "tags": []
   },
   "outputs": [],
   "source": [
    "rom_irka = irka.reduce(sigma)"
   ]
  },
  {
   "cell_type": "code",
   "execution_count": null,
   "id": "a5c0349b-3138-49df-b81f-8bbbd57ae230",
   "metadata": {
    "slideshow": {
     "slide_type": "subslide"
    },
    "tags": []
   },
   "outputs": [],
   "source": [
    "rom_irka"
   ]
  },
  {
   "cell_type": "code",
   "execution_count": null,
   "id": "57d70b7e-cadf-4217-9036-e80eca4d2be3",
   "metadata": {
    "slideshow": {
     "slide_type": "fragment"
    },
    "tags": []
   },
   "outputs": [],
   "source": [
    "print(rom_irka)"
   ]
  },
  {
   "cell_type": "markdown",
   "id": "0ecb1b57-e4d9-4cc7-9e43-7ef2665f43f2",
   "metadata": {},
   "source": [
    "Analyse the reduced-order model."
   ]
  },
  {
   "cell_type": "markdown",
   "id": "47652968-2ee9-425b-a044-7dbcac0a50b2",
   "metadata": {},
   "source": [
    "### Poles"
   ]
  },
  {
   "cell_type": "code",
   "execution_count": null,
   "id": "237f1543-eac3-4971-9793-461315632c78",
   "metadata": {},
   "outputs": [],
   "source": []
  },
  {
   "cell_type": "markdown",
   "id": "921e2c39-57a8-45f6-8df6-d28cd3dad928",
   "metadata": {},
   "source": [
    "### Impulse Response"
   ]
  },
  {
   "cell_type": "code",
   "execution_count": null,
   "id": "ec378f32-40e6-40cd-96b0-21d89a694d11",
   "metadata": {},
   "outputs": [],
   "source": []
  },
  {
   "cell_type": "markdown",
   "id": "aacfcb13-52ba-45e2-a88f-ae798708ff03",
   "metadata": {},
   "source": [
    "### Bode Plot"
   ]
  },
  {
   "cell_type": "code",
   "execution_count": null,
   "id": "72246dc7-6972-4e5e-bd49-03f3ee1f627b",
   "metadata": {},
   "outputs": [],
   "source": []
  },
  {
   "cell_type": "markdown",
   "id": "35020004-a4af-4838-ae3c-eccbe43ccd84",
   "metadata": {},
   "source": [
    "### Error Magnitude Plot"
   ]
  },
  {
   "cell_type": "code",
   "execution_count": null,
   "id": "c22cf974-6ce4-48a4-aa47-c93b30016414",
   "metadata": {},
   "outputs": [],
   "source": []
  },
  {
   "cell_type": "markdown",
   "id": "bfb540a0-d353-4077-9002-7d9bc1d94612",
   "metadata": {},
   "source": [
    "### Relative $\\mathcal{H}_2$ Error"
   ]
  },
  {
   "cell_type": "code",
   "execution_count": null,
   "id": "b0af3e9d-7dad-4bef-9622-0749a86ec477",
   "metadata": {},
   "outputs": [],
   "source": []
  },
  {
   "cell_type": "markdown",
   "id": "ebb62705-3533-4bfd-96ae-1877290ee376",
   "metadata": {},
   "source": [
    "## `SecondOrderModel`\n",
    "\n",
    "Note that the reduced-order model from BT (and IRKA)\n",
    "does not preserve the second-order structure\n",
    "present in the mass-spring-damper system."
   ]
  },
  {
   "cell_type": "code",
   "execution_count": null,
   "id": "c2c811d3-a433-44ab-9ad3-ddfaa9ea69e7",
   "metadata": {
    "tags": []
   },
   "outputs": [],
   "source": [
    "fig, ax = plt.subplots(1, 2, figsize=(8, 4), constrained_layout=True)\n",
    "Ebt, Abt = rom_bt.E.matrix, rom_bt.A.matrix\n",
    "vmin = min(Ebt.min(), Abt.min())\n",
    "vmax = min(Ebt.max(), Abt.max())\n",
    "_ = ax[0].imshow(Ebt, vmin=vmin, vmax=vmax)\n",
    "_ = ax[0].set_title('E')\n",
    "out = ax[1].imshow(Abt, vmin=vmin, vmax=vmax)\n",
    "_ = ax[1].set_title('A')\n",
    "_ = fig.colorbar(out)\n",
    "_ = fig.suptitle('BT ROM matrices')"
   ]
  },
  {
   "cell_type": "markdown",
   "id": "b6f48ba4-c3e7-4f31-883b-615328fd90b9",
   "metadata": {},
   "source": [
    "To use reductors that preserve the second-order structure, we need to form a `SecondOrderModel`."
   ]
  },
  {
   "cell_type": "code",
   "execution_count": null,
   "id": "a94ab7a8-68eb-4029-9e60-ab6e5e36cc8e",
   "metadata": {
    "tags": []
   },
   "outputs": [],
   "source": [
    "from pymor.models.iosys import SecondOrderModel"
   ]
  },
  {
   "cell_type": "code",
   "execution_count": null,
   "id": "b2ec1936-a06c-4004-b4ac-ad8bdabf9ad4",
   "metadata": {
    "scrolled": true,
    "tags": []
   },
   "outputs": [],
   "source": [
    "SecondOrderModel?"
   ]
  },
  {
   "cell_type": "code",
   "execution_count": null,
   "id": "b4de032a-40ea-471d-b9c0-17709d36994c",
   "metadata": {
    "tags": []
   },
   "outputs": [],
   "source": [
    "som = SecondOrderModel.from_matrices(Mso, Dso, Kso, Bso, Cso)"
   ]
  },
  {
   "cell_type": "code",
   "execution_count": null,
   "id": "6c871e46-fbda-4450-9aac-d58bad5dc7b8",
   "metadata": {
    "tags": []
   },
   "outputs": [],
   "source": [
    "som"
   ]
  },
  {
   "cell_type": "code",
   "execution_count": null,
   "id": "fe19405f-98b9-4714-a592-4759b8cba03d",
   "metadata": {
    "tags": []
   },
   "outputs": [],
   "source": [
    "print(som)"
   ]
  },
  {
   "cell_type": "markdown",
   "id": "40430c6e-6514-417b-9798-da3d95285aa3",
   "metadata": {},
   "source": [
    "### Position/Velocity Singular Values"
   ]
  },
  {
   "cell_type": "markdown",
   "id": "72c84b4e-266a-4f73-adb8-36b0ceefc1e8",
   "metadata": {},
   "source": [
    "As a heuristic, \"Hankel\" singular values based on the\n",
    "\n",
    "- position controllability Gramian $P_p$,\n",
    "- velocity controllability Gramian $P_v$,\n",
    "- position observability Gramian $Q_p$, and\n",
    "- velocity observability Gramian $M_{so}\\tran Q_v M_{so}$,\n",
    "\n",
    "can be used to chose the reduced order,\n",
    "where\n",
    "$$\n",
    "P =\n",
    "\\begin{bmatrix}\n",
    "  P_p & P_{12} \\\\\n",
    "  P_{12}\\tran & P_v\n",
    "\\end{bmatrix}\n",
    "\\quad \\text{and} \\quad\n",
    "Q =\n",
    "\\begin{bmatrix}\n",
    "  Q_p & Q_{12} \\\\\n",
    "  Q_{12}\\tran & Q_v\n",
    "\\end{bmatrix}.\n",
    "$$"
   ]
  },
  {
   "cell_type": "code",
   "execution_count": null,
   "id": "49f97a4b-d817-42b8-9096-4205404289f3",
   "metadata": {
    "scrolled": true,
    "tags": []
   },
   "outputs": [],
   "source": [
    "psv = som.psv()\n",
    "vsv = som.vsv()\n",
    "pvsv = som.pvsv()\n",
    "vpsv = som.vpsv()"
   ]
  },
  {
   "cell_type": "code",
   "execution_count": null,
   "id": "afd3e88d-db26-47f3-9639-580dc04a2592",
   "metadata": {
    "tags": []
   },
   "outputs": [],
   "source": [
    "fig, axs = plt.subplots(2, 2, sharex=True, sharey=True, figsize=(8, 6), constrained_layout=True)\n",
    "ax = axs[0, 0]\n",
    "_ = ax.semilogy(range(1, len(psv) + 1), psv, '.-')\n",
    "_ = ax.set_title('Position singular values')\n",
    "ax = axs[0, 1]\n",
    "_ = ax.semilogy(range(1, len(vsv) + 1), vsv, '.-')\n",
    "_ = ax.set_title('Velocity singular values')\n",
    "ax = axs[1, 0]\n",
    "_ = ax.semilogy(range(1, len(pvsv) + 1), pvsv, '.-')\n",
    "_ = ax.set_title('Position-velocity singular values')\n",
    "ax = axs[1, 1]\n",
    "_ = ax.semilogy(range(1, len(vpsv) + 1), vpsv, '.-')\n",
    "_ = ax.set_title('Velocity-position singular values')"
   ]
  },
  {
   "cell_type": "markdown",
   "id": "cc3301db-6fa2-42ad-872d-89d02491f87a",
   "metadata": {
    "tags": []
   },
   "source": [
    "## Exercise 2: Second-Order Balanced Truncation"
   ]
  },
  {
   "cell_type": "code",
   "execution_count": null,
   "id": "76544256-46e2-498d-aa65-871899a3ea17",
   "metadata": {
    "tags": []
   },
   "outputs": [],
   "source": [
    "from pymor.reductors.sobt import SOBTpReductor"
   ]
  },
  {
   "cell_type": "code",
   "execution_count": null,
   "id": "6a8d4589-9ca4-43d1-91b1-6eb423bd9f78",
   "metadata": {
    "tags": []
   },
   "outputs": [],
   "source": [
    "SOBTpReductor?"
   ]
  },
  {
   "cell_type": "code",
   "execution_count": null,
   "id": "1de490e3-1b38-4f7c-93a1-050cd57b52c4",
   "metadata": {
    "tags": []
   },
   "outputs": [],
   "source": [
    "sobtp = ..."
   ]
  },
  {
   "cell_type": "code",
   "execution_count": null,
   "id": "b77b8b17-aed5-4137-a003-353a44d2b3c9",
   "metadata": {
    "tags": []
   },
   "outputs": [],
   "source": [
    "sobtp.reduce?"
   ]
  },
  {
   "cell_type": "code",
   "execution_count": null,
   "id": "b4ccd704-713b-49ee-89a8-04561364d8cd",
   "metadata": {
    "tags": []
   },
   "outputs": [],
   "source": [
    "rom_sobtp = sobtp.reduce(r//2)"
   ]
  },
  {
   "cell_type": "markdown",
   "id": "a6f9a2cd-a12e-41b3-af82-0781663ae405",
   "metadata": {},
   "source": [
    "The reduced-order model is now a `SecondOrderModel`."
   ]
  },
  {
   "cell_type": "code",
   "execution_count": null,
   "id": "b5099d5f-d5af-46ad-b9c6-baba7c021dbb",
   "metadata": {
    "slideshow": {
     "slide_type": "subslide"
    },
    "tags": []
   },
   "outputs": [],
   "source": [
    "rom_sobtp"
   ]
  },
  {
   "cell_type": "code",
   "execution_count": null,
   "id": "9775143f-1c8c-421d-9eda-8ba70b630d80",
   "metadata": {
    "slideshow": {
     "slide_type": "fragment"
    },
    "tags": []
   },
   "outputs": [],
   "source": [
    "print(rom_sobtp)"
   ]
  },
  {
   "cell_type": "markdown",
   "id": "5abb2e92-69ae-49ee-9d50-5411d4af45c3",
   "metadata": {},
   "source": [
    "### Poles"
   ]
  },
  {
   "cell_type": "code",
   "execution_count": null,
   "id": "792d9d26-5776-48f9-8363-c95248b4427a",
   "metadata": {},
   "outputs": [],
   "source": []
  },
  {
   "cell_type": "markdown",
   "id": "6ab892a9-63a4-4878-b46e-773eeae2676f",
   "metadata": {},
   "source": [
    "### Impulse Response"
   ]
  },
  {
   "cell_type": "code",
   "execution_count": null,
   "id": "c829e33f-0f31-4628-b60b-849a6e1eb045",
   "metadata": {},
   "outputs": [],
   "source": []
  },
  {
   "cell_type": "markdown",
   "id": "effadb7b-f696-4c30-b2bb-e807a5e8d624",
   "metadata": {},
   "source": [
    "### Bode Plot"
   ]
  },
  {
   "cell_type": "code",
   "execution_count": null,
   "id": "3e18c991-3c58-4d11-b530-db789964c76c",
   "metadata": {},
   "outputs": [],
   "source": []
  },
  {
   "cell_type": "markdown",
   "id": "7c469f92-dd09-412f-b4c7-bc7e2076d378",
   "metadata": {},
   "source": [
    "### Error Magnitude Plot"
   ]
  },
  {
   "cell_type": "code",
   "execution_count": null,
   "id": "47923180-fda0-4fc4-b09f-d23b2c1f64c9",
   "metadata": {},
   "outputs": [],
   "source": []
  },
  {
   "cell_type": "markdown",
   "id": "bccc0a33-e0a1-49ad-937b-6f5dbc521bca",
   "metadata": {},
   "source": [
    "### Relative $\\mathcal{H}_2$ Error"
   ]
  },
  {
   "cell_type": "code",
   "execution_count": null,
   "id": "392e0771-4207-44bd-b954-f97b015bc400",
   "metadata": {},
   "outputs": [],
   "source": []
  }
 ],
 "metadata": {
  "jupytext": {
   "formats": "ipynb,md:myst"
  },
  "kernelspec": {
   "display_name": "Python 3 (ipykernel)",
   "language": "python",
   "name": "python3"
  },
  "language_info": {
   "codemirror_mode": {
    "name": "ipython",
    "version": 3
   },
   "file_extension": ".py",
   "mimetype": "text/x-python",
   "name": "python",
   "nbconvert_exporter": "python",
   "pygments_lexer": "ipython3",
   "version": "3.8.12"
  }
 },
 "nbformat": 4,
 "nbformat_minor": 5
}
